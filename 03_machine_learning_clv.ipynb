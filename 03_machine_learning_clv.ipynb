{
 "cells": [
  {
   "cell_type": "markdown",
   "metadata": {},
   "source": [
    "# Machine Learning Models\n",
    "## Load Libraries"
   ]
  },
  {
   "cell_type": "code",
   "execution_count": 1,
   "metadata": {},
   "outputs": [],
   "source": [
    "import pandas as pd\n",
    "import pytimetk as tk\n",
    "\n",
    "import pycaret.classification as clf\n",
    "import pycaret.regression as reg"
   ]
  },
  {
   "cell_type": "code",
   "execution_count": 2,
   "metadata": {},
   "outputs": [],
   "source": [
    "# constants \n",
    "profit_margin = 0.15 #15% Profit on Products"
   ]
  },
  {
   "cell_type": "code",
   "execution_count": 3,
   "metadata": {},
   "outputs": [],
   "source": [
    "# Helper Function\n",
    "from datetime import datetime\n",
    "\n",
    "# differences in months.\n",
    "def diff_month(d1, d2):\n",
    "    if ((d1.year - d2.year) * 12 + d1.month - d2.month) == 0:\n",
    "        return 1\n",
    "    else:\n",
    "        return (d1.year - d2.year) * 12 + d1.month - d2.month"
   ]
  },
  {
   "cell_type": "code",
   "execution_count": 4,
   "metadata": {},
   "outputs": [],
   "source": [
    "# Helper Functions\n",
    "\n",
    "# Converting Churn Rates:\n",
    "###########################################################\n",
    "# To convert annual churn to a monthly churn rate:\n",
    "def churn_mthly_2_annual(mthly_churn_rate):\n",
    "    return (1.0-((1.0-mthly_churn_rate)**(12)))\n",
    "\n",
    "# To convert monthly churn to an annual churn rate:\n",
    "def churn_annual_2_mthly(annual_churn_rate):\n",
    "    return (1.0-((1.0-annual_churn_rate)**(1/12.0)))\n",
    "\n",
    "# To convert churn rate to any period:\n",
    "def churn_any_period_2_mthly(period_churn_rate, num_mths_in_period):\n",
    "    return (1.0-((1.0-period_churn_rate)**(1/num_mths_in_period)))\n",
    "\n",
    "\n",
    "# Customer Lifetime Value\n",
    "###########################################################\n",
    "# Customer Lifetime Months \n",
    "def cust_lifetime_in_mths(MonthlyChurnRate):\n",
    "    return (1 / MonthlyChurnRate)\n",
    "\n",
    "# Customer Lifetime Years\n",
    "def cust_lifetime_in_years(MonthlyChurnRate):\n",
    "    return (cust_lifetime_in_mths(MonthlyChurnRate) / 12.0)\n",
    "\n",
    "# Monthly Churn Rate % from customer lifetime in months.\n",
    "def mthly_churn_rate_from_mthly_lifetime(CustomerLifetimeMonths):\n",
    "    return (1 / CustomerLifetimeMonths)\n",
    "\n",
    "# Monthly Churn Rate % from customer lifetime in years.\n",
    "def mthly_churn_rate_from_yearly_lifetime(CustomerLifetimeYears):\n",
    "    return (1 / (CustomerLifetimeYears * 12))\n",
    "    \n",
    "# Decay\n",
    "###########################################################\n",
    "# Want to know how many customers will remain after 6, 12, 24 months?\n",
    "# Here is how to calculate how many customers in a cohort will be left at Month X, \n",
    "# using exponential decay.\n",
    "\n",
    "def custs_remaining(MonthlyChurnRate, StartingCohortCount, NumberOfMonthsInTheFuture):\n",
    "    return (StartingCohortCount * ((1 - MonthlyChurnRate) ^ NumberOfMonthsInTheFuture))\n",
    "\n",
    "\n",
    "# Calculate Churn\n",
    "###########################################################\n",
    "# Annual Churn Rate\n",
    "def annual_churn_rate(CohortYearStartCount, CohortYearEndCount):\n",
    "    return ((CohortYearStartCount - CohortYearEndCount) / CohortYearStartCount)\n",
    "\n",
    "# Monthly Churn Rate\n",
    "def mthly_churn_rate(CohortMonthStartCount, CohortMonthEndCount):\n",
    "    return ((CohortMonthStartCount - CohortMonthEndCount) / CohortMonthStartCount)\n",
    "\n",
    "# Any Period Churn Rate\n",
    "def any_period_churn_rate(CohortPeriodStartCount, CohortPeriodEndCount):\n",
    "    return ((CohortPeriodStartCount - CohortPeriodEndCount) / CohortPeriodStartCount)\n"
   ]
  },
  {
   "cell_type": "markdown",
   "metadata": {},
   "source": [
    "## Import Data"
   ]
  },
  {
   "cell_type": "code",
   "execution_count": 5,
   "metadata": {},
   "outputs": [],
   "source": [
    "# Accomodate raw path to variables\n",
    "raw_customer, raw_orders = \"./input/customers.csv\", \"./input/orders.csv\"\n",
    "raw_products, raw_sales = \"./input/products.csv\", \"./input/sales.csv\"\n",
    "\n",
    "# Read-in data\n",
    "customer, order = pd.read_csv(raw_customer), pd.read_csv(raw_orders)\n",
    "product, sales_data = pd.read_csv(raw_products), pd.read_csv(raw_sales)"
   ]
  },
  {
   "cell_type": "code",
   "execution_count": 6,
   "metadata": {},
   "outputs": [
    {
     "name": "stdout",
     "output_type": "stream",
     "text": [
      "2021-1-1\n",
      "2021-9-9\n"
     ]
    }
   ],
   "source": [
    "print(order['order_date'].min())\n",
    "print(order['order_date'].max())"
   ]
  },
  {
   "cell_type": "code",
   "execution_count": 7,
   "metadata": {},
   "outputs": [
    {
     "data": {
      "text/html": [
       "<div>\n",
       "<style scoped>\n",
       "    .dataframe tbody tr th:only-of-type {\n",
       "        vertical-align: middle;\n",
       "    }\n",
       "\n",
       "    .dataframe tbody tr th {\n",
       "        vertical-align: top;\n",
       "    }\n",
       "\n",
       "    .dataframe thead th {\n",
       "        text-align: right;\n",
       "    }\n",
       "</style>\n",
       "<table border=\"1\" class=\"dataframe\">\n",
       "  <thead>\n",
       "    <tr style=\"text-align: right;\">\n",
       "      <th></th>\n",
       "      <th>order_id</th>\n",
       "      <th>customer_id</th>\n",
       "      <th>payment</th>\n",
       "      <th>order_date</th>\n",
       "      <th>delivery_date</th>\n",
       "    </tr>\n",
       "  </thead>\n",
       "  <tbody>\n",
       "    <tr>\n",
       "      <th>0</th>\n",
       "      <td>1</td>\n",
       "      <td>64</td>\n",
       "      <td>30811</td>\n",
       "      <td>2021-8-30</td>\n",
       "      <td>2021-09-24</td>\n",
       "    </tr>\n",
       "    <tr>\n",
       "      <th>1</th>\n",
       "      <td>2</td>\n",
       "      <td>473</td>\n",
       "      <td>50490</td>\n",
       "      <td>2021-2-3</td>\n",
       "      <td>2021-02-13</td>\n",
       "    </tr>\n",
       "    <tr>\n",
       "      <th>2</th>\n",
       "      <td>3</td>\n",
       "      <td>774</td>\n",
       "      <td>46763</td>\n",
       "      <td>2021-10-8</td>\n",
       "      <td>2021-11-03</td>\n",
       "    </tr>\n",
       "  </tbody>\n",
       "</table>\n",
       "</div>"
      ],
      "text/plain": [
       "   order_id  customer_id  payment order_date delivery_date\n",
       "0         1           64    30811  2021-8-30    2021-09-24\n",
       "1         2          473    50490   2021-2-3    2021-02-13\n",
       "2         3          774    46763  2021-10-8    2021-11-03"
      ]
     },
     "execution_count": 7,
     "metadata": {},
     "output_type": "execute_result"
    }
   ],
   "source": [
    "order.head(3)"
   ]
  },
  {
   "cell_type": "code",
   "execution_count": 8,
   "metadata": {},
   "outputs": [],
   "source": [
    "df = order.copy()\n",
    "df['order_date'] = pd.to_datetime(df['order_date'])"
   ]
  },
  {
   "cell_type": "code",
   "execution_count": 9,
   "metadata": {},
   "outputs": [
    {
     "data": {
      "text/html": [
       "<div>\n",
       "<style scoped>\n",
       "    .dataframe tbody tr th:only-of-type {\n",
       "        vertical-align: middle;\n",
       "    }\n",
       "\n",
       "    .dataframe tbody tr th {\n",
       "        vertical-align: top;\n",
       "    }\n",
       "\n",
       "    .dataframe thead th {\n",
       "        text-align: right;\n",
       "    }\n",
       "</style>\n",
       "<table border=\"1\" class=\"dataframe\">\n",
       "  <thead>\n",
       "    <tr style=\"text-align: right;\">\n",
       "      <th></th>\n",
       "      <th>order_id</th>\n",
       "      <th>customer_id</th>\n",
       "      <th>payment</th>\n",
       "      <th>order_date</th>\n",
       "      <th>delivery_date</th>\n",
       "    </tr>\n",
       "  </thead>\n",
       "  <tbody>\n",
       "    <tr>\n",
       "      <th>6</th>\n",
       "      <td>7</td>\n",
       "      <td>626</td>\n",
       "      <td>37666</td>\n",
       "      <td>2021-04-05</td>\n",
       "      <td>2021-04-11</td>\n",
       "    </tr>\n",
       "    <tr>\n",
       "      <th>7</th>\n",
       "      <td>8</td>\n",
       "      <td>58</td>\n",
       "      <td>28484</td>\n",
       "      <td>2021-04-12</td>\n",
       "      <td>2021-05-01</td>\n",
       "    </tr>\n",
       "    <tr>\n",
       "      <th>20</th>\n",
       "      <td>21</td>\n",
       "      <td>124</td>\n",
       "      <td>11261</td>\n",
       "      <td>2021-04-04</td>\n",
       "      <td>2021-04-17</td>\n",
       "    </tr>\n",
       "  </tbody>\n",
       "</table>\n",
       "</div>"
      ],
      "text/plain": [
       "    order_id  customer_id  payment order_date delivery_date\n",
       "6          7          626    37666 2021-04-05    2021-04-11\n",
       "7          8           58    28484 2021-04-12    2021-05-01\n",
       "20        21          124    11261 2021-04-04    2021-04-17"
      ]
     },
     "execution_count": 9,
     "metadata": {},
     "output_type": "execute_result"
    }
   ],
   "source": [
    "# Select a cohort\n",
    "df1 = df[(df['order_date']>=datetime(2021, 4, 1))&\n",
    "         (df['order_date']<datetime(2021, 5, 1))]\n",
    "df1.head(3)"
   ]
  },
  {
   "cell_type": "markdown",
   "metadata": {},
   "source": [
    "## EDA"
   ]
  },
  {
   "cell_type": "code",
   "execution_count": 10,
   "metadata": {},
   "outputs": [
    {
     "data": {
      "application/vnd.plotly.v1+json": {
       "config": {
        "plotlyServerURL": "https://plot.ly"
       },
       "data": [
        {
         "hoverlabel": {
          "font": {
           "size": 8.8
          }
         },
         "line": {
          "color": "rgba(44, 62, 80, 1.0)",
          "width": 0.65
         },
         "mode": "lines",
         "name": "Time Series",
         "showlegend": false,
         "type": "scatter",
         "x": [
          "2021-01-31T00:00:00",
          "2021-02-28T00:00:00",
          "2021-03-31T00:00:00",
          "2021-04-30T00:00:00",
          "2021-05-31T00:00:00",
          "2021-06-30T00:00:00",
          "2021-07-31T00:00:00",
          "2021-08-31T00:00:00",
          "2021-09-30T00:00:00",
          "2021-10-31T00:00:00"
         ],
         "y": [
          3520014,
          3190783,
          4129045,
          3233260,
          3028007,
          3351443,
          3588328,
          3822263,
          3173182,
          2936611
         ]
        },
        {
         "hoverlabel": {
          "font": {
           "size": 8.8
          }
         },
         "line": {
          "color": "rgba(51, 102, 255, 1.0)",
          "width": 1
         },
         "mode": "lines",
         "name": "Smoother",
         "showlegend": false,
         "type": "scatter",
         "x": [
          "2021-01-31T00:00:00",
          "2021-02-28T00:00:00",
          "2021-03-31T00:00:00",
          "2021-04-30T00:00:00",
          "2021-05-31T00:00:00",
          "2021-06-30T00:00:00",
          "2021-07-31T00:00:00",
          "2021-08-31T00:00:00",
          "2021-09-30T00:00:00",
          "2021-10-31T00:00:00"
         ],
         "y": [
          3520014,
          3190783,
          4129045,
          3233260,
          3028007,
          3351443,
          3588328,
          3822263,
          3173182,
          2936611
         ]
        }
       ],
       "layout": {
        "autosize": true,
        "font": {
         "size": 11
        },
        "legend": {
         "font": {
          "size": 8.8
         },
         "title": {
          "font": {
           "size": 8.8
          },
          "text": "Legend"
         }
        },
        "margin": {
         "b": 40,
         "l": 10,
         "r": 10,
         "t": 40
        },
        "template": {
         "data": {
          "bar": [
           {
            "error_x": {
             "color": "#2a3f5f"
            },
            "error_y": {
             "color": "#2a3f5f"
            },
            "marker": {
             "line": {
              "color": "white",
              "width": 0.5
             },
             "pattern": {
              "fillmode": "overlay",
              "size": 10,
              "solidity": 0.2
             }
            },
            "type": "bar"
           }
          ],
          "barpolar": [
           {
            "marker": {
             "line": {
              "color": "white",
              "width": 0.5
             },
             "pattern": {
              "fillmode": "overlay",
              "size": 10,
              "solidity": 0.2
             }
            },
            "type": "barpolar"
           }
          ],
          "carpet": [
           {
            "aaxis": {
             "endlinecolor": "#2a3f5f",
             "gridcolor": "#C8D4E3",
             "linecolor": "#C8D4E3",
             "minorgridcolor": "#C8D4E3",
             "startlinecolor": "#2a3f5f"
            },
            "baxis": {
             "endlinecolor": "#2a3f5f",
             "gridcolor": "#C8D4E3",
             "linecolor": "#C8D4E3",
             "minorgridcolor": "#C8D4E3",
             "startlinecolor": "#2a3f5f"
            },
            "type": "carpet"
           }
          ],
          "choropleth": [
           {
            "colorbar": {
             "outlinewidth": 0,
             "ticks": ""
            },
            "type": "choropleth"
           }
          ],
          "contour": [
           {
            "colorbar": {
             "outlinewidth": 0,
             "ticks": ""
            },
            "colorscale": [
             [
              0,
              "#0d0887"
             ],
             [
              0.1111111111111111,
              "#46039f"
             ],
             [
              0.2222222222222222,
              "#7201a8"
             ],
             [
              0.3333333333333333,
              "#9c179e"
             ],
             [
              0.4444444444444444,
              "#bd3786"
             ],
             [
              0.5555555555555556,
              "#d8576b"
             ],
             [
              0.6666666666666666,
              "#ed7953"
             ],
             [
              0.7777777777777778,
              "#fb9f3a"
             ],
             [
              0.8888888888888888,
              "#fdca26"
             ],
             [
              1,
              "#f0f921"
             ]
            ],
            "type": "contour"
           }
          ],
          "contourcarpet": [
           {
            "colorbar": {
             "outlinewidth": 0,
             "ticks": ""
            },
            "type": "contourcarpet"
           }
          ],
          "heatmap": [
           {
            "colorbar": {
             "outlinewidth": 0,
             "ticks": ""
            },
            "colorscale": [
             [
              0,
              "#0d0887"
             ],
             [
              0.1111111111111111,
              "#46039f"
             ],
             [
              0.2222222222222222,
              "#7201a8"
             ],
             [
              0.3333333333333333,
              "#9c179e"
             ],
             [
              0.4444444444444444,
              "#bd3786"
             ],
             [
              0.5555555555555556,
              "#d8576b"
             ],
             [
              0.6666666666666666,
              "#ed7953"
             ],
             [
              0.7777777777777778,
              "#fb9f3a"
             ],
             [
              0.8888888888888888,
              "#fdca26"
             ],
             [
              1,
              "#f0f921"
             ]
            ],
            "type": "heatmap"
           }
          ],
          "heatmapgl": [
           {
            "colorbar": {
             "outlinewidth": 0,
             "ticks": ""
            },
            "colorscale": [
             [
              0,
              "#0d0887"
             ],
             [
              0.1111111111111111,
              "#46039f"
             ],
             [
              0.2222222222222222,
              "#7201a8"
             ],
             [
              0.3333333333333333,
              "#9c179e"
             ],
             [
              0.4444444444444444,
              "#bd3786"
             ],
             [
              0.5555555555555556,
              "#d8576b"
             ],
             [
              0.6666666666666666,
              "#ed7953"
             ],
             [
              0.7777777777777778,
              "#fb9f3a"
             ],
             [
              0.8888888888888888,
              "#fdca26"
             ],
             [
              1,
              "#f0f921"
             ]
            ],
            "type": "heatmapgl"
           }
          ],
          "histogram": [
           {
            "marker": {
             "pattern": {
              "fillmode": "overlay",
              "size": 10,
              "solidity": 0.2
             }
            },
            "type": "histogram"
           }
          ],
          "histogram2d": [
           {
            "colorbar": {
             "outlinewidth": 0,
             "ticks": ""
            },
            "colorscale": [
             [
              0,
              "#0d0887"
             ],
             [
              0.1111111111111111,
              "#46039f"
             ],
             [
              0.2222222222222222,
              "#7201a8"
             ],
             [
              0.3333333333333333,
              "#9c179e"
             ],
             [
              0.4444444444444444,
              "#bd3786"
             ],
             [
              0.5555555555555556,
              "#d8576b"
             ],
             [
              0.6666666666666666,
              "#ed7953"
             ],
             [
              0.7777777777777778,
              "#fb9f3a"
             ],
             [
              0.8888888888888888,
              "#fdca26"
             ],
             [
              1,
              "#f0f921"
             ]
            ],
            "type": "histogram2d"
           }
          ],
          "histogram2dcontour": [
           {
            "colorbar": {
             "outlinewidth": 0,
             "ticks": ""
            },
            "colorscale": [
             [
              0,
              "#0d0887"
             ],
             [
              0.1111111111111111,
              "#46039f"
             ],
             [
              0.2222222222222222,
              "#7201a8"
             ],
             [
              0.3333333333333333,
              "#9c179e"
             ],
             [
              0.4444444444444444,
              "#bd3786"
             ],
             [
              0.5555555555555556,
              "#d8576b"
             ],
             [
              0.6666666666666666,
              "#ed7953"
             ],
             [
              0.7777777777777778,
              "#fb9f3a"
             ],
             [
              0.8888888888888888,
              "#fdca26"
             ],
             [
              1,
              "#f0f921"
             ]
            ],
            "type": "histogram2dcontour"
           }
          ],
          "mesh3d": [
           {
            "colorbar": {
             "outlinewidth": 0,
             "ticks": ""
            },
            "type": "mesh3d"
           }
          ],
          "parcoords": [
           {
            "line": {
             "colorbar": {
              "outlinewidth": 0,
              "ticks": ""
             }
            },
            "type": "parcoords"
           }
          ],
          "pie": [
           {
            "automargin": true,
            "type": "pie"
           }
          ],
          "scatter": [
           {
            "fillpattern": {
             "fillmode": "overlay",
             "size": 10,
             "solidity": 0.2
            },
            "type": "scatter"
           }
          ],
          "scatter3d": [
           {
            "line": {
             "colorbar": {
              "outlinewidth": 0,
              "ticks": ""
             }
            },
            "marker": {
             "colorbar": {
              "outlinewidth": 0,
              "ticks": ""
             }
            },
            "type": "scatter3d"
           }
          ],
          "scattercarpet": [
           {
            "marker": {
             "colorbar": {
              "outlinewidth": 0,
              "ticks": ""
             }
            },
            "type": "scattercarpet"
           }
          ],
          "scattergeo": [
           {
            "marker": {
             "colorbar": {
              "outlinewidth": 0,
              "ticks": ""
             }
            },
            "type": "scattergeo"
           }
          ],
          "scattergl": [
           {
            "marker": {
             "colorbar": {
              "outlinewidth": 0,
              "ticks": ""
             }
            },
            "type": "scattergl"
           }
          ],
          "scattermapbox": [
           {
            "marker": {
             "colorbar": {
              "outlinewidth": 0,
              "ticks": ""
             }
            },
            "type": "scattermapbox"
           }
          ],
          "scatterpolar": [
           {
            "marker": {
             "colorbar": {
              "outlinewidth": 0,
              "ticks": ""
             }
            },
            "type": "scatterpolar"
           }
          ],
          "scatterpolargl": [
           {
            "marker": {
             "colorbar": {
              "outlinewidth": 0,
              "ticks": ""
             }
            },
            "type": "scatterpolargl"
           }
          ],
          "scatterternary": [
           {
            "marker": {
             "colorbar": {
              "outlinewidth": 0,
              "ticks": ""
             }
            },
            "type": "scatterternary"
           }
          ],
          "surface": [
           {
            "colorbar": {
             "outlinewidth": 0,
             "ticks": ""
            },
            "colorscale": [
             [
              0,
              "#0d0887"
             ],
             [
              0.1111111111111111,
              "#46039f"
             ],
             [
              0.2222222222222222,
              "#7201a8"
             ],
             [
              0.3333333333333333,
              "#9c179e"
             ],
             [
              0.4444444444444444,
              "#bd3786"
             ],
             [
              0.5555555555555556,
              "#d8576b"
             ],
             [
              0.6666666666666666,
              "#ed7953"
             ],
             [
              0.7777777777777778,
              "#fb9f3a"
             ],
             [
              0.8888888888888888,
              "#fdca26"
             ],
             [
              1,
              "#f0f921"
             ]
            ],
            "type": "surface"
           }
          ],
          "table": [
           {
            "cells": {
             "fill": {
              "color": "#EBF0F8"
             },
             "line": {
              "color": "white"
             }
            },
            "header": {
             "fill": {
              "color": "#C8D4E3"
             },
             "line": {
              "color": "white"
             }
            },
            "type": "table"
           }
          ]
         },
         "layout": {
          "annotationdefaults": {
           "arrowcolor": "#2a3f5f",
           "arrowhead": 0,
           "arrowwidth": 1
          },
          "autotypenumbers": "strict",
          "coloraxis": {
           "colorbar": {
            "outlinewidth": 0,
            "ticks": ""
           }
          },
          "colorscale": {
           "diverging": [
            [
             0,
             "#8e0152"
            ],
            [
             0.1,
             "#c51b7d"
            ],
            [
             0.2,
             "#de77ae"
            ],
            [
             0.3,
             "#f1b6da"
            ],
            [
             0.4,
             "#fde0ef"
            ],
            [
             0.5,
             "#f7f7f7"
            ],
            [
             0.6,
             "#e6f5d0"
            ],
            [
             0.7,
             "#b8e186"
            ],
            [
             0.8,
             "#7fbc41"
            ],
            [
             0.9,
             "#4d9221"
            ],
            [
             1,
             "#276419"
            ]
           ],
           "sequential": [
            [
             0,
             "#0d0887"
            ],
            [
             0.1111111111111111,
             "#46039f"
            ],
            [
             0.2222222222222222,
             "#7201a8"
            ],
            [
             0.3333333333333333,
             "#9c179e"
            ],
            [
             0.4444444444444444,
             "#bd3786"
            ],
            [
             0.5555555555555556,
             "#d8576b"
            ],
            [
             0.6666666666666666,
             "#ed7953"
            ],
            [
             0.7777777777777778,
             "#fb9f3a"
            ],
            [
             0.8888888888888888,
             "#fdca26"
            ],
            [
             1,
             "#f0f921"
            ]
           ],
           "sequentialminus": [
            [
             0,
             "#0d0887"
            ],
            [
             0.1111111111111111,
             "#46039f"
            ],
            [
             0.2222222222222222,
             "#7201a8"
            ],
            [
             0.3333333333333333,
             "#9c179e"
            ],
            [
             0.4444444444444444,
             "#bd3786"
            ],
            [
             0.5555555555555556,
             "#d8576b"
            ],
            [
             0.6666666666666666,
             "#ed7953"
            ],
            [
             0.7777777777777778,
             "#fb9f3a"
            ],
            [
             0.8888888888888888,
             "#fdca26"
            ],
            [
             1,
             "#f0f921"
            ]
           ]
          },
          "colorway": [
           "#636efa",
           "#EF553B",
           "#00cc96",
           "#ab63fa",
           "#FFA15A",
           "#19d3f3",
           "#FF6692",
           "#B6E880",
           "#FF97FF",
           "#FECB52"
          ],
          "font": {
           "color": "#2a3f5f"
          },
          "geo": {
           "bgcolor": "white",
           "lakecolor": "white",
           "landcolor": "white",
           "showlakes": true,
           "showland": true,
           "subunitcolor": "#C8D4E3"
          },
          "hoverlabel": {
           "align": "left"
          },
          "hovermode": "closest",
          "mapbox": {
           "style": "light"
          },
          "paper_bgcolor": "white",
          "plot_bgcolor": "white",
          "polar": {
           "angularaxis": {
            "gridcolor": "#EBF0F8",
            "linecolor": "#EBF0F8",
            "ticks": ""
           },
           "bgcolor": "white",
           "radialaxis": {
            "gridcolor": "#EBF0F8",
            "linecolor": "#EBF0F8",
            "ticks": ""
           }
          },
          "scene": {
           "xaxis": {
            "backgroundcolor": "white",
            "gridcolor": "#DFE8F3",
            "gridwidth": 2,
            "linecolor": "#EBF0F8",
            "showbackground": true,
            "ticks": "",
            "zerolinecolor": "#EBF0F8"
           },
           "yaxis": {
            "backgroundcolor": "white",
            "gridcolor": "#DFE8F3",
            "gridwidth": 2,
            "linecolor": "#EBF0F8",
            "showbackground": true,
            "ticks": "",
            "zerolinecolor": "#EBF0F8"
           },
           "zaxis": {
            "backgroundcolor": "white",
            "gridcolor": "#DFE8F3",
            "gridwidth": 2,
            "linecolor": "#EBF0F8",
            "showbackground": true,
            "ticks": "",
            "zerolinecolor": "#EBF0F8"
           }
          },
          "shapedefaults": {
           "line": {
            "color": "#2a3f5f"
           }
          },
          "ternary": {
           "aaxis": {
            "gridcolor": "#DFE8F3",
            "linecolor": "#A2B1C6",
            "ticks": ""
           },
           "baxis": {
            "gridcolor": "#DFE8F3",
            "linecolor": "#A2B1C6",
            "ticks": ""
           },
           "bgcolor": "white",
           "caxis": {
            "gridcolor": "#DFE8F3",
            "linecolor": "#A2B1C6",
            "ticks": ""
           }
          },
          "title": {
           "x": 0.05
          },
          "xaxis": {
           "automargin": true,
           "gridcolor": "#EBF0F8",
           "linecolor": "#EBF0F8",
           "ticks": "",
           "title": {
            "standoff": 15
           },
           "zerolinecolor": "#EBF0F8",
           "zerolinewidth": 2
          },
          "yaxis": {
           "automargin": true,
           "gridcolor": "#EBF0F8",
           "linecolor": "#EBF0F8",
           "ticks": "",
           "title": {
            "standoff": 15
           },
           "zerolinecolor": "#EBF0F8",
           "zerolinewidth": 2
          }
         }
        },
        "title": {
         "font": {
          "size": 13.2
         },
         "text": "Time Series Plot"
        },
        "xaxis": {
         "anchor": "y",
         "domain": [
          0,
          1
         ],
         "showticklabels": true,
         "tickfont": {
          "size": 8.8
         },
         "tickformat": "%b %Y",
         "title": {
          "text": ""
         },
         "visible": true
        },
        "yaxis": {
         "anchor": "x",
         "domain": [
          0,
          1
         ],
         "tickfont": {
          "size": 8.8
         },
         "title": {
          "text": ""
         }
        }
       }
      }
     },
     "metadata": {},
     "output_type": "display_data"
    }
   ],
   "source": [
    "(df[['order_date','payment']].summarize_by_time(\n",
    "    date_column = 'order_date',\n",
    "    value_column = 'payment',\n",
    "    agg_func = 'sum',\n",
    "    freq = 'M'\n",
    ")\n",
    " .plot_timeseries('order_date','payment'))"
   ]
  },
  {
   "cell_type": "code",
   "execution_count": 11,
   "metadata": {},
   "outputs": [
    {
     "data": {
      "application/vnd.plotly.v1+json": {
       "config": {
        "plotlyServerURL": "https://plot.ly"
       },
       "data": [
        {
         "hoverlabel": {
          "font": {
           "size": 8.8
          }
         },
         "line": {
          "color": "rgba(44, 62, 80, 1.0)",
          "width": 0.65
         },
         "mode": "lines",
         "name": "Time Series",
         "showlegend": false,
         "type": "scatter",
         "x": [
          "2021-01-01T00:00:00",
          "2021-01-02T00:00:00",
          "2021-01-03T00:00:00",
          "2021-01-04T00:00:00",
          "2021-01-05T00:00:00",
          "2021-01-06T00:00:00",
          "2021-01-07T00:00:00",
          "2021-01-08T00:00:00",
          "2021-01-09T00:00:00",
          "2021-01-10T00:00:00",
          "2021-01-11T00:00:00",
          "2021-01-12T00:00:00",
          "2021-01-13T00:00:00",
          "2021-01-14T00:00:00",
          "2021-01-15T00:00:00",
          "2021-01-16T00:00:00",
          "2021-01-17T00:00:00",
          "2021-01-18T00:00:00",
          "2021-01-19T00:00:00",
          "2021-01-20T00:00:00",
          "2021-01-21T00:00:00",
          "2021-01-22T00:00:00",
          "2021-01-23T00:00:00",
          "2021-01-24T00:00:00",
          "2021-01-25T00:00:00",
          "2021-01-26T00:00:00",
          "2021-01-27T00:00:00",
          "2021-01-28T00:00:00",
          "2021-01-29T00:00:00",
          "2021-01-30T00:00:00",
          "2021-01-31T00:00:00",
          "2021-02-01T00:00:00",
          "2021-02-02T00:00:00",
          "2021-02-03T00:00:00",
          "2021-02-04T00:00:00",
          "2021-02-05T00:00:00",
          "2021-02-06T00:00:00",
          "2021-02-07T00:00:00",
          "2021-02-08T00:00:00",
          "2021-02-09T00:00:00",
          "2021-02-10T00:00:00",
          "2021-02-11T00:00:00",
          "2021-02-12T00:00:00",
          "2021-02-13T00:00:00",
          "2021-02-14T00:00:00",
          "2021-02-15T00:00:00",
          "2021-02-16T00:00:00",
          "2021-02-17T00:00:00",
          "2021-02-18T00:00:00",
          "2021-02-19T00:00:00",
          "2021-02-20T00:00:00",
          "2021-02-21T00:00:00",
          "2021-02-22T00:00:00",
          "2021-02-23T00:00:00",
          "2021-02-24T00:00:00",
          "2021-02-25T00:00:00",
          "2021-02-26T00:00:00",
          "2021-02-27T00:00:00",
          "2021-02-28T00:00:00",
          "2021-03-01T00:00:00",
          "2021-03-02T00:00:00",
          "2021-03-03T00:00:00",
          "2021-03-04T00:00:00",
          "2021-03-05T00:00:00",
          "2021-03-06T00:00:00",
          "2021-03-07T00:00:00",
          "2021-03-08T00:00:00",
          "2021-03-09T00:00:00",
          "2021-03-10T00:00:00",
          "2021-03-11T00:00:00",
          "2021-03-12T00:00:00",
          "2021-03-13T00:00:00",
          "2021-03-14T00:00:00",
          "2021-03-15T00:00:00",
          "2021-03-16T00:00:00",
          "2021-03-17T00:00:00",
          "2021-03-18T00:00:00",
          "2021-03-19T00:00:00",
          "2021-03-20T00:00:00",
          "2021-03-21T00:00:00",
          "2021-03-22T00:00:00",
          "2021-03-23T00:00:00",
          "2021-03-24T00:00:00",
          "2021-03-25T00:00:00",
          "2021-03-26T00:00:00",
          "2021-03-27T00:00:00",
          "2021-03-28T00:00:00",
          "2021-03-29T00:00:00",
          "2021-03-30T00:00:00",
          "2021-03-31T00:00:00",
          "2021-04-01T00:00:00",
          "2021-04-02T00:00:00",
          "2021-04-03T00:00:00",
          "2021-04-04T00:00:00",
          "2021-04-05T00:00:00",
          "2021-04-06T00:00:00",
          "2021-04-07T00:00:00",
          "2021-04-08T00:00:00",
          "2021-04-09T00:00:00",
          "2021-04-10T00:00:00",
          "2021-04-11T00:00:00",
          "2021-04-12T00:00:00",
          "2021-04-13T00:00:00",
          "2021-04-14T00:00:00",
          "2021-04-15T00:00:00",
          "2021-04-16T00:00:00",
          "2021-04-17T00:00:00",
          "2021-04-18T00:00:00",
          "2021-04-19T00:00:00",
          "2021-04-20T00:00:00",
          "2021-04-21T00:00:00",
          "2021-04-22T00:00:00",
          "2021-04-23T00:00:00",
          "2021-04-24T00:00:00",
          "2021-04-25T00:00:00",
          "2021-04-26T00:00:00",
          "2021-04-27T00:00:00",
          "2021-04-28T00:00:00",
          "2021-04-29T00:00:00",
          "2021-04-30T00:00:00",
          "2021-05-01T00:00:00",
          "2021-05-02T00:00:00",
          "2021-05-03T00:00:00",
          "2021-05-04T00:00:00",
          "2021-05-05T00:00:00",
          "2021-05-06T00:00:00",
          "2021-05-07T00:00:00",
          "2021-05-08T00:00:00",
          "2021-05-09T00:00:00",
          "2021-05-10T00:00:00",
          "2021-05-11T00:00:00",
          "2021-05-12T00:00:00",
          "2021-05-13T00:00:00",
          "2021-05-14T00:00:00",
          "2021-05-15T00:00:00",
          "2021-05-16T00:00:00",
          "2021-05-17T00:00:00",
          "2021-05-18T00:00:00",
          "2021-05-19T00:00:00",
          "2021-05-20T00:00:00",
          "2021-05-21T00:00:00",
          "2021-05-22T00:00:00",
          "2021-05-23T00:00:00",
          "2021-05-24T00:00:00",
          "2021-05-25T00:00:00",
          "2021-05-26T00:00:00",
          "2021-05-27T00:00:00",
          "2021-05-28T00:00:00",
          "2021-05-29T00:00:00",
          "2021-05-30T00:00:00",
          "2021-05-31T00:00:00",
          "2021-06-01T00:00:00",
          "2021-06-02T00:00:00",
          "2021-06-03T00:00:00",
          "2021-06-04T00:00:00",
          "2021-06-05T00:00:00",
          "2021-06-06T00:00:00",
          "2021-06-07T00:00:00",
          "2021-06-08T00:00:00",
          "2021-06-09T00:00:00",
          "2021-06-10T00:00:00",
          "2021-06-11T00:00:00",
          "2021-06-12T00:00:00",
          "2021-06-13T00:00:00",
          "2021-06-14T00:00:00",
          "2021-06-15T00:00:00",
          "2021-06-16T00:00:00",
          "2021-06-17T00:00:00",
          "2021-06-18T00:00:00",
          "2021-06-19T00:00:00",
          "2021-06-20T00:00:00",
          "2021-06-21T00:00:00",
          "2021-06-22T00:00:00",
          "2021-06-23T00:00:00",
          "2021-06-24T00:00:00",
          "2021-06-25T00:00:00",
          "2021-06-26T00:00:00",
          "2021-06-27T00:00:00",
          "2021-06-28T00:00:00",
          "2021-06-29T00:00:00",
          "2021-06-30T00:00:00",
          "2021-07-01T00:00:00",
          "2021-07-02T00:00:00",
          "2021-07-03T00:00:00",
          "2021-07-04T00:00:00",
          "2021-07-05T00:00:00",
          "2021-07-06T00:00:00",
          "2021-07-07T00:00:00",
          "2021-07-08T00:00:00",
          "2021-07-09T00:00:00",
          "2021-07-10T00:00:00",
          "2021-07-11T00:00:00",
          "2021-07-12T00:00:00",
          "2021-07-13T00:00:00",
          "2021-07-14T00:00:00",
          "2021-07-15T00:00:00",
          "2021-07-16T00:00:00",
          "2021-07-17T00:00:00",
          "2021-07-18T00:00:00",
          "2021-07-19T00:00:00",
          "2021-07-20T00:00:00",
          "2021-07-21T00:00:00",
          "2021-07-22T00:00:00",
          "2021-07-23T00:00:00",
          "2021-07-24T00:00:00",
          "2021-07-25T00:00:00",
          "2021-07-26T00:00:00",
          "2021-07-27T00:00:00",
          "2021-07-28T00:00:00",
          "2021-07-29T00:00:00",
          "2021-07-30T00:00:00",
          "2021-07-31T00:00:00",
          "2021-08-01T00:00:00",
          "2021-08-02T00:00:00",
          "2021-08-03T00:00:00",
          "2021-08-04T00:00:00",
          "2021-08-05T00:00:00",
          "2021-08-06T00:00:00",
          "2021-08-07T00:00:00",
          "2021-08-08T00:00:00",
          "2021-08-09T00:00:00",
          "2021-08-10T00:00:00",
          "2021-08-11T00:00:00",
          "2021-08-12T00:00:00",
          "2021-08-13T00:00:00",
          "2021-08-14T00:00:00",
          "2021-08-15T00:00:00",
          "2021-08-16T00:00:00",
          "2021-08-17T00:00:00",
          "2021-08-18T00:00:00",
          "2021-08-19T00:00:00",
          "2021-08-20T00:00:00",
          "2021-08-21T00:00:00",
          "2021-08-22T00:00:00",
          "2021-08-23T00:00:00",
          "2021-08-24T00:00:00",
          "2021-08-25T00:00:00",
          "2021-08-26T00:00:00",
          "2021-08-27T00:00:00",
          "2021-08-28T00:00:00",
          "2021-08-29T00:00:00",
          "2021-08-30T00:00:00",
          "2021-08-31T00:00:00",
          "2021-09-01T00:00:00",
          "2021-09-02T00:00:00",
          "2021-09-03T00:00:00",
          "2021-09-04T00:00:00",
          "2021-09-05T00:00:00",
          "2021-09-06T00:00:00",
          "2021-09-07T00:00:00",
          "2021-09-08T00:00:00",
          "2021-09-09T00:00:00",
          "2021-09-10T00:00:00",
          "2021-09-11T00:00:00",
          "2021-09-12T00:00:00",
          "2021-09-13T00:00:00",
          "2021-09-14T00:00:00",
          "2021-09-15T00:00:00",
          "2021-09-16T00:00:00",
          "2021-09-17T00:00:00",
          "2021-09-18T00:00:00",
          "2021-09-19T00:00:00",
          "2021-09-20T00:00:00",
          "2021-09-21T00:00:00",
          "2021-09-22T00:00:00",
          "2021-09-23T00:00:00",
          "2021-09-24T00:00:00",
          "2021-09-25T00:00:00",
          "2021-09-26T00:00:00",
          "2021-09-27T00:00:00",
          "2021-09-28T00:00:00",
          "2021-09-29T00:00:00",
          "2021-09-30T00:00:00",
          "2021-10-01T00:00:00",
          "2021-10-02T00:00:00",
          "2021-10-03T00:00:00",
          "2021-10-04T00:00:00",
          "2021-10-05T00:00:00",
          "2021-10-06T00:00:00",
          "2021-10-07T00:00:00",
          "2021-10-08T00:00:00",
          "2021-10-09T00:00:00",
          "2021-10-10T00:00:00",
          "2021-10-11T00:00:00",
          "2021-10-12T00:00:00",
          "2021-10-13T00:00:00",
          "2021-10-14T00:00:00",
          "2021-10-15T00:00:00",
          "2021-10-16T00:00:00",
          "2021-10-17T00:00:00",
          "2021-10-18T00:00:00",
          "2021-10-19T00:00:00",
          "2021-10-20T00:00:00",
          "2021-10-21T00:00:00",
          "2021-10-22T00:00:00",
          "2021-10-23T00:00:00",
          "2021-10-24T00:00:00"
         ],
         "y": [
          116762,
          267690,
          137094,
          99608,
          119878,
          38074,
          135473,
          107833,
          163370,
          194523,
          140501,
          264322,
          176577,
          52204,
          97920,
          13696,
          42601,
          82042,
          48601,
          127912,
          40632,
          127139,
          28151,
          42896,
          187492,
          35985,
          174532,
          0,
          133690,
          59687,
          263129,
          28420,
          239617,
          186273,
          87560,
          217728,
          138317,
          142458,
          154066,
          101307,
          38737,
          53675,
          158078,
          34212,
          228470,
          42366,
          41180,
          157767,
          144653,
          139544,
          142437,
          43543,
          132737,
          67346,
          82339,
          121246,
          140725,
          101094,
          24888,
          0,
          59750,
          111754,
          131720,
          106731,
          76323,
          159955,
          143630,
          191325,
          173248,
          109675,
          64729,
          215771,
          175284,
          139003,
          264265,
          188535,
          69232,
          183981,
          78031,
          51817,
          320211,
          165848,
          98441,
          51224,
          165929,
          24144,
          49326,
          161635,
          303503,
          94025,
          77521,
          47697,
          131443,
          78927,
          104078,
          97615,
          173358,
          107414,
          54353,
          113505,
          232463,
          28484,
          158034,
          170838,
          105651,
          130747,
          116972,
          119453,
          69580,
          114233,
          62889,
          32031,
          52928,
          67236,
          203610,
          71815,
          35465,
          165456,
          188112,
          121352,
          125854,
          183309,
          15453,
          68138,
          177933,
          114219,
          69646,
          52845,
          220900,
          65040,
          82393,
          57430,
          189814,
          0,
          65002,
          260062,
          103765,
          70238,
          101874,
          52388,
          96118,
          237931,
          109503,
          91832,
          53127,
          142792,
          75612,
          78040,
          33446,
          21738,
          11565,
          24189,
          64423,
          73563,
          54304,
          79581,
          135621,
          153814,
          0,
          99280,
          63444,
          56052,
          87211,
          173054,
          70384,
          156445,
          49852,
          94015,
          135990,
          148382,
          322303,
          338449,
          137896,
          128370,
          47022,
          97120,
          66320,
          54614,
          53893,
          172771,
          213081,
          152209,
          75101,
          37625,
          171562,
          130927,
          141927,
          341811,
          79107,
          124502,
          37878,
          11914,
          86168,
          123132,
          77069,
          309520,
          250835,
          241136,
          140225,
          73852,
          46847,
          74288,
          98215,
          53679,
          101553,
          128790,
          84552,
          24343,
          69258,
          33993,
          78482,
          187828,
          166048,
          145446,
          154585,
          167544,
          117291,
          50343,
          93938,
          117467,
          66923,
          124598,
          73694,
          36118,
          110907,
          143968,
          26863,
          228651,
          195290,
          100392,
          137015,
          170707,
          44121,
          153669,
          146269,
          185942,
          121030,
          207084,
          0,
          150798,
          39593,
          212096,
          133873,
          94121,
          169275,
          103405,
          78564,
          30064,
          106498,
          17071,
          142204,
          26565,
          71003,
          149817,
          59876,
          43651,
          149599,
          108128,
          263575,
          96416,
          26314,
          140929,
          77866,
          0,
          66555,
          115468,
          81670,
          175998,
          235125,
          28448,
          100023,
          119498,
          295456,
          52570,
          51698,
          171900,
          27059,
          85030,
          83742,
          98131,
          179004,
          65441,
          154061,
          201787,
          67920,
          207329,
          72817,
          108025,
          94558,
          85481,
          107527,
          243394,
          93869,
          209547,
          231044,
          115097,
          129580
         ]
        },
        {
         "hoverlabel": {
          "font": {
           "size": 8.8
          }
         },
         "line": {
          "color": "rgba(51, 102, 255, 1.0)",
          "width": 1
         },
         "mode": "lines",
         "name": "Smoother",
         "showlegend": false,
         "type": "scatter",
         "x": [
          "2021-01-01T00:00:00",
          "2021-01-02T00:00:00",
          "2021-01-03T00:00:00",
          "2021-01-04T00:00:00",
          "2021-01-05T00:00:00",
          "2021-01-06T00:00:00",
          "2021-01-07T00:00:00",
          "2021-01-08T00:00:00",
          "2021-01-09T00:00:00",
          "2021-01-10T00:00:00",
          "2021-01-11T00:00:00",
          "2021-01-12T00:00:00",
          "2021-01-13T00:00:00",
          "2021-01-14T00:00:00",
          "2021-01-15T00:00:00",
          "2021-01-16T00:00:00",
          "2021-01-17T00:00:00",
          "2021-01-18T00:00:00",
          "2021-01-19T00:00:00",
          "2021-01-20T00:00:00",
          "2021-01-21T00:00:00",
          "2021-01-22T00:00:00",
          "2021-01-23T00:00:00",
          "2021-01-24T00:00:00",
          "2021-01-25T00:00:00",
          "2021-01-26T00:00:00",
          "2021-01-27T00:00:00",
          "2021-01-28T00:00:00",
          "2021-01-29T00:00:00",
          "2021-01-30T00:00:00",
          "2021-01-31T00:00:00",
          "2021-02-01T00:00:00",
          "2021-02-02T00:00:00",
          "2021-02-03T00:00:00",
          "2021-02-04T00:00:00",
          "2021-02-05T00:00:00",
          "2021-02-06T00:00:00",
          "2021-02-07T00:00:00",
          "2021-02-08T00:00:00",
          "2021-02-09T00:00:00",
          "2021-02-10T00:00:00",
          "2021-02-11T00:00:00",
          "2021-02-12T00:00:00",
          "2021-02-13T00:00:00",
          "2021-02-14T00:00:00",
          "2021-02-15T00:00:00",
          "2021-02-16T00:00:00",
          "2021-02-17T00:00:00",
          "2021-02-18T00:00:00",
          "2021-02-19T00:00:00",
          "2021-02-20T00:00:00",
          "2021-02-21T00:00:00",
          "2021-02-22T00:00:00",
          "2021-02-23T00:00:00",
          "2021-02-24T00:00:00",
          "2021-02-25T00:00:00",
          "2021-02-26T00:00:00",
          "2021-02-27T00:00:00",
          "2021-02-28T00:00:00",
          "2021-03-01T00:00:00",
          "2021-03-02T00:00:00",
          "2021-03-03T00:00:00",
          "2021-03-04T00:00:00",
          "2021-03-05T00:00:00",
          "2021-03-06T00:00:00",
          "2021-03-07T00:00:00",
          "2021-03-08T00:00:00",
          "2021-03-09T00:00:00",
          "2021-03-10T00:00:00",
          "2021-03-11T00:00:00",
          "2021-03-12T00:00:00",
          "2021-03-13T00:00:00",
          "2021-03-14T00:00:00",
          "2021-03-15T00:00:00",
          "2021-03-16T00:00:00",
          "2021-03-17T00:00:00",
          "2021-03-18T00:00:00",
          "2021-03-19T00:00:00",
          "2021-03-20T00:00:00",
          "2021-03-21T00:00:00",
          "2021-03-22T00:00:00",
          "2021-03-23T00:00:00",
          "2021-03-24T00:00:00",
          "2021-03-25T00:00:00",
          "2021-03-26T00:00:00",
          "2021-03-27T00:00:00",
          "2021-03-28T00:00:00",
          "2021-03-29T00:00:00",
          "2021-03-30T00:00:00",
          "2021-03-31T00:00:00",
          "2021-04-01T00:00:00",
          "2021-04-02T00:00:00",
          "2021-04-03T00:00:00",
          "2021-04-04T00:00:00",
          "2021-04-05T00:00:00",
          "2021-04-06T00:00:00",
          "2021-04-07T00:00:00",
          "2021-04-08T00:00:00",
          "2021-04-09T00:00:00",
          "2021-04-10T00:00:00",
          "2021-04-11T00:00:00",
          "2021-04-12T00:00:00",
          "2021-04-13T00:00:00",
          "2021-04-14T00:00:00",
          "2021-04-15T00:00:00",
          "2021-04-16T00:00:00",
          "2021-04-17T00:00:00",
          "2021-04-18T00:00:00",
          "2021-04-19T00:00:00",
          "2021-04-20T00:00:00",
          "2021-04-21T00:00:00",
          "2021-04-22T00:00:00",
          "2021-04-23T00:00:00",
          "2021-04-24T00:00:00",
          "2021-04-25T00:00:00",
          "2021-04-26T00:00:00",
          "2021-04-27T00:00:00",
          "2021-04-28T00:00:00",
          "2021-04-29T00:00:00",
          "2021-04-30T00:00:00",
          "2021-05-01T00:00:00",
          "2021-05-02T00:00:00",
          "2021-05-03T00:00:00",
          "2021-05-04T00:00:00",
          "2021-05-05T00:00:00",
          "2021-05-06T00:00:00",
          "2021-05-07T00:00:00",
          "2021-05-08T00:00:00",
          "2021-05-09T00:00:00",
          "2021-05-10T00:00:00",
          "2021-05-11T00:00:00",
          "2021-05-12T00:00:00",
          "2021-05-13T00:00:00",
          "2021-05-14T00:00:00",
          "2021-05-15T00:00:00",
          "2021-05-16T00:00:00",
          "2021-05-17T00:00:00",
          "2021-05-18T00:00:00",
          "2021-05-19T00:00:00",
          "2021-05-20T00:00:00",
          "2021-05-21T00:00:00",
          "2021-05-22T00:00:00",
          "2021-05-23T00:00:00",
          "2021-05-24T00:00:00",
          "2021-05-25T00:00:00",
          "2021-05-26T00:00:00",
          "2021-05-27T00:00:00",
          "2021-05-28T00:00:00",
          "2021-05-29T00:00:00",
          "2021-05-30T00:00:00",
          "2021-05-31T00:00:00",
          "2021-06-01T00:00:00",
          "2021-06-02T00:00:00",
          "2021-06-03T00:00:00",
          "2021-06-04T00:00:00",
          "2021-06-05T00:00:00",
          "2021-06-06T00:00:00",
          "2021-06-07T00:00:00",
          "2021-06-08T00:00:00",
          "2021-06-09T00:00:00",
          "2021-06-10T00:00:00",
          "2021-06-11T00:00:00",
          "2021-06-12T00:00:00",
          "2021-06-13T00:00:00",
          "2021-06-14T00:00:00",
          "2021-06-15T00:00:00",
          "2021-06-16T00:00:00",
          "2021-06-17T00:00:00",
          "2021-06-18T00:00:00",
          "2021-06-19T00:00:00",
          "2021-06-20T00:00:00",
          "2021-06-21T00:00:00",
          "2021-06-22T00:00:00",
          "2021-06-23T00:00:00",
          "2021-06-24T00:00:00",
          "2021-06-25T00:00:00",
          "2021-06-26T00:00:00",
          "2021-06-27T00:00:00",
          "2021-06-28T00:00:00",
          "2021-06-29T00:00:00",
          "2021-06-30T00:00:00",
          "2021-07-01T00:00:00",
          "2021-07-02T00:00:00",
          "2021-07-03T00:00:00",
          "2021-07-04T00:00:00",
          "2021-07-05T00:00:00",
          "2021-07-06T00:00:00",
          "2021-07-07T00:00:00",
          "2021-07-08T00:00:00",
          "2021-07-09T00:00:00",
          "2021-07-10T00:00:00",
          "2021-07-11T00:00:00",
          "2021-07-12T00:00:00",
          "2021-07-13T00:00:00",
          "2021-07-14T00:00:00",
          "2021-07-15T00:00:00",
          "2021-07-16T00:00:00",
          "2021-07-17T00:00:00",
          "2021-07-18T00:00:00",
          "2021-07-19T00:00:00",
          "2021-07-20T00:00:00",
          "2021-07-21T00:00:00",
          "2021-07-22T00:00:00",
          "2021-07-23T00:00:00",
          "2021-07-24T00:00:00",
          "2021-07-25T00:00:00",
          "2021-07-26T00:00:00",
          "2021-07-27T00:00:00",
          "2021-07-28T00:00:00",
          "2021-07-29T00:00:00",
          "2021-07-30T00:00:00",
          "2021-07-31T00:00:00",
          "2021-08-01T00:00:00",
          "2021-08-02T00:00:00",
          "2021-08-03T00:00:00",
          "2021-08-04T00:00:00",
          "2021-08-05T00:00:00",
          "2021-08-06T00:00:00",
          "2021-08-07T00:00:00",
          "2021-08-08T00:00:00",
          "2021-08-09T00:00:00",
          "2021-08-10T00:00:00",
          "2021-08-11T00:00:00",
          "2021-08-12T00:00:00",
          "2021-08-13T00:00:00",
          "2021-08-14T00:00:00",
          "2021-08-15T00:00:00",
          "2021-08-16T00:00:00",
          "2021-08-17T00:00:00",
          "2021-08-18T00:00:00",
          "2021-08-19T00:00:00",
          "2021-08-20T00:00:00",
          "2021-08-21T00:00:00",
          "2021-08-22T00:00:00",
          "2021-08-23T00:00:00",
          "2021-08-24T00:00:00",
          "2021-08-25T00:00:00",
          "2021-08-26T00:00:00",
          "2021-08-27T00:00:00",
          "2021-08-28T00:00:00",
          "2021-08-29T00:00:00",
          "2021-08-30T00:00:00",
          "2021-08-31T00:00:00",
          "2021-09-01T00:00:00",
          "2021-09-02T00:00:00",
          "2021-09-03T00:00:00",
          "2021-09-04T00:00:00",
          "2021-09-05T00:00:00",
          "2021-09-06T00:00:00",
          "2021-09-07T00:00:00",
          "2021-09-08T00:00:00",
          "2021-09-09T00:00:00",
          "2021-09-10T00:00:00",
          "2021-09-11T00:00:00",
          "2021-09-12T00:00:00",
          "2021-09-13T00:00:00",
          "2021-09-14T00:00:00",
          "2021-09-15T00:00:00",
          "2021-09-16T00:00:00",
          "2021-09-17T00:00:00",
          "2021-09-18T00:00:00",
          "2021-09-19T00:00:00",
          "2021-09-20T00:00:00",
          "2021-09-21T00:00:00",
          "2021-09-22T00:00:00",
          "2021-09-23T00:00:00",
          "2021-09-24T00:00:00",
          "2021-09-25T00:00:00",
          "2021-09-26T00:00:00",
          "2021-09-27T00:00:00",
          "2021-09-28T00:00:00",
          "2021-09-29T00:00:00",
          "2021-09-30T00:00:00",
          "2021-10-01T00:00:00",
          "2021-10-02T00:00:00",
          "2021-10-03T00:00:00",
          "2021-10-04T00:00:00",
          "2021-10-05T00:00:00",
          "2021-10-06T00:00:00",
          "2021-10-07T00:00:00",
          "2021-10-08T00:00:00",
          "2021-10-09T00:00:00",
          "2021-10-10T00:00:00",
          "2021-10-11T00:00:00",
          "2021-10-12T00:00:00",
          "2021-10-13T00:00:00",
          "2021-10-14T00:00:00",
          "2021-10-15T00:00:00",
          "2021-10-16T00:00:00",
          "2021-10-17T00:00:00",
          "2021-10-18T00:00:00",
          "2021-10-19T00:00:00",
          "2021-10-20T00:00:00",
          "2021-10-21T00:00:00",
          "2021-10-22T00:00:00",
          "2021-10-23T00:00:00",
          "2021-10-24T00:00:00"
         ],
         "y": [
          121233.99981915152,
          120517.1735273174,
          119826.32876020618,
          119161.5522636931,
          118522.50639051918,
          117908.97734369193,
          117320.92147771467,
          116758.94822195184,
          116223.63696288265,
          115715.43766693852,
          115234.0928350992,
          114778.30985265385,
          114345.93312290846,
          113933.49365056655,
          113536.38345555343,
          113149.83086913337,
          112768.89989988737,
          112388.97337472494,
          112005.77153603583,
          111615.11871445159,
          111213.02621841789,
          110795.16382212052,
          110357.42413049944,
          109895.63871296254,
          109407.14596732585,
          108892.24990838459,
          108355.77478753302,
          107814.91630620687,
          107308.60692479544,
          106903.1392759949,
          106832.85097989974,
          106824.94844775007,
          106874.9729296431,
          106984.61454260936,
          107158.87976221873,
          107403.82928078223,
          107711.21107077022,
          108059.99900676771,
          108423.77642805954,
          108775.99318979574,
          109096.6845055398,
          109368.33473732721,
          109580.65003967128,
          109734.51504495164,
          109841.37648675234,
          109923.45297385904,
          110000.05273015612,
          110093.21712783432,
          110226.7749118323,
          110412.41406745512,
          110664.71018847774,
          110985.72165650949,
          111372.02478323104,
          111820.90400536048,
          112327.94013561646,
          112891.41085741384,
          113500.5724682075,
          114151.89884247544,
          114824.89087533315,
          115494.44124730057,
          116145.46130738527,
          116779.95209864332,
          117387.68335201073,
          117951.70384530797,
          118453.5126856276,
          118876.16224154303,
          119209.41167721555,
          119450.2095784631,
          119606.41235893764,
          119704.24740965282,
          119770.68179961324,
          119819.5600037386,
          119862.73134915667,
          119919.39169954372,
          119990.53417643883,
          120085.06556852521,
          120205.48679112847,
          120333.98677969836,
          120450.03576784508,
          120532.7860946516,
          120565.00851718614,
          120531.56639561633,
          120412.62002459182,
          120185.33613776912,
          119821.15669620068,
          119292.29389680306,
          118584.93195198623,
          117717.7375966619,
          116723.29965919568,
          115632.34334852787,
          114480.07836737126,
          113305.89405180726,
          112150.54074878439,
          111058.45782880446,
          110068.90046367023,
          109196.01504645299,
          108444.18555068625,
          107820.81899103233,
          107333.95217861843,
          106986.69532140075,
          106770.28382271345,
          106665.50113112137,
          106645.37720730186,
          106680.8284013976,
          106739.17551999823,
          106800.7701590539,
          106846.84235219039,
          106855.59730657672,
          106822.86031174925,
          106743.52551296912,
          106601.85368137989,
          106386.52607823421,
          106094.79918354267,
          105733.27822388725,
          105318.61126891525,
          104875.71017263859,
          104416.69210828327,
          103939.92169532637,
          103454.20209955233,
          102974.81740041434,
          102513.03607207442,
          102068.23734627874,
          101625.52589964386,
          101165.23328563564,
          100667.92782480738,
          100119.40821248472,
          99508.91959208866,
          98835.8386227735,
          98108.75486865916,
          97339.84581430635,
          96539.9599498233,
          95714.16333450426,
          94856.07183323863,
          93955.99112900122,
          93006.55697633073,
          92008.39033709146,
          90976.24651970704,
          89928.81438617621,
          88893.75152091119,
          87895.32293464686,
          86963.22969685883,
          86132.9711350818,
          85434.7463793636,
          84881.43926524109,
          84473.98682065909,
          84223.31837989438,
          84133.52078970739,
          84182.1640075146,
          84340.78687421138,
          84581.1464170649,
          84872.18942410026,
          85188.52379959506,
          85529.8252083704,
          85904.38430309953,
          86318.72276810218,
          86777.33944140664,
          87281.64359615269,
          87837.60230864391,
          88449.19295407174,
          89128.28666406522,
          89887.48074606198,
          90730.70814796064,
          91656.78300161101,
          92660.39482586092,
          93719.11811394281,
          94804.27242210404,
          95896.92582994752,
          96982.80523988769,
          98061.09309650962,
          99143.60199202165,
          100238.50400679011,
          101340.04910416789,
          102429.71482178367,
          103478.34816770618,
          104451.82165301383,
          105314.77741793789,
          106041.83017523606,
          106623.28823720959,
          107067.7662106336,
          107388.95216915073,
          107595.62780132728,
          107689.7528662679,
          107664.36832948726,
          107516.98490047506,
          107263.27373191288,
          106926.42442101018,
          106528.39616678354,
          106099.55398164186,
          105681.41964557733,
          105303.43428448557,
          104982.27232233922,
          104725.07576600328,
          104530.49823713004,
          104390.49980991047,
          104304.26065684186,
          104263.52481666545,
          104258.74181733308,
          104275.3052417008,
          104293.08532826358,
          104286.47282436526,
          104245.39402566878,
          104173.74737901031,
          104079.86834010352,
          103984.05332549391,
          103917.61710283195,
          103903.18028094104,
          103964.247886719,
          104119.9558043293,
          104378.84807601741,
          104734.01465747316,
          105181.02333701593,
          105716.72430433442,
          106343.55088349708,
          107049.68463845378,
          107815.98416758794,
          108626.0217118056,
          109464.92382355488,
          110327.54345430364,
          111208.48095014779,
          112096.97871659753,
          112980.7164370599,
          113842.8812302821,
          114655.39261995778,
          115392.65705104005,
          116027.10794551883,
          116529.15463677923,
          116877.03785580069,
          117054.25011604933,
          117058.66407988801,
          116908.37416569986,
          116629.65050397151,
          116254.9706685789,
          115809.83253821173,
          115310.5488225348,
          114774.89290116368,
          114217.37083701885,
          113648.79445987864,
          113079.47677414813,
          112518.00803512981,
          111966.70705103173,
          111426.1682292957,
          110888.65756147057,
          110336.0128039392,
          109748.54497684857,
          109111.59022707767,
          108419.50359552084,
          107669.60937455934,
          106863.73703760531,
          106011.45001706494,
          105120.15174353469,
          104201.54405153645,
          103270.26645028395,
          102349.45308685741,
          101470.47852212556,
          100653.77065268421,
          99921.36174382642,
          99301.10864770316,
          98803.89800342971,
          98444.4941858593,
          98233.20915997647,
          98168.0833907935,
          98240.51438549247,
          98440.88624954446,
          98750.65430693857,
          99159.33550591479,
          99659.10515138114,
          100257.27773853595,
          100969.4647086228,
          102093.52818373762,
          103337.64997827388,
          104649.30157754524,
          105994.14858079504,
          107354.34988386715,
          108720.92941911145,
          110089.01287746216,
          111456.88623880086,
          112824.48789550051,
          114191.7928470548,
          115559.68876434468,
          116929.5664339427,
          118303.05730360151,
          119681.67357489665,
          121066.37070418731,
          122458.26723909068,
          123858.01401371717,
          125265.64359876899,
          126681.37288599063,
          128105.01289865201,
          129536.77430724286,
          130977.25512122347,
          132427.50865575968,
          133889.10314917748,
          135363.6569252895,
          136852.02154134028,
          138355.03855845283,
          139872.6599441313,
          141403.85266360568
         ]
        }
       ],
       "layout": {
        "autosize": true,
        "font": {
         "size": 11
        },
        "legend": {
         "font": {
          "size": 8.8
         },
         "title": {
          "font": {
           "size": 8.8
          },
          "text": "Legend"
         }
        },
        "margin": {
         "b": 40,
         "l": 10,
         "r": 10,
         "t": 40
        },
        "template": {
         "data": {
          "bar": [
           {
            "error_x": {
             "color": "#2a3f5f"
            },
            "error_y": {
             "color": "#2a3f5f"
            },
            "marker": {
             "line": {
              "color": "white",
              "width": 0.5
             },
             "pattern": {
              "fillmode": "overlay",
              "size": 10,
              "solidity": 0.2
             }
            },
            "type": "bar"
           }
          ],
          "barpolar": [
           {
            "marker": {
             "line": {
              "color": "white",
              "width": 0.5
             },
             "pattern": {
              "fillmode": "overlay",
              "size": 10,
              "solidity": 0.2
             }
            },
            "type": "barpolar"
           }
          ],
          "carpet": [
           {
            "aaxis": {
             "endlinecolor": "#2a3f5f",
             "gridcolor": "#C8D4E3",
             "linecolor": "#C8D4E3",
             "minorgridcolor": "#C8D4E3",
             "startlinecolor": "#2a3f5f"
            },
            "baxis": {
             "endlinecolor": "#2a3f5f",
             "gridcolor": "#C8D4E3",
             "linecolor": "#C8D4E3",
             "minorgridcolor": "#C8D4E3",
             "startlinecolor": "#2a3f5f"
            },
            "type": "carpet"
           }
          ],
          "choropleth": [
           {
            "colorbar": {
             "outlinewidth": 0,
             "ticks": ""
            },
            "type": "choropleth"
           }
          ],
          "contour": [
           {
            "colorbar": {
             "outlinewidth": 0,
             "ticks": ""
            },
            "colorscale": [
             [
              0,
              "#0d0887"
             ],
             [
              0.1111111111111111,
              "#46039f"
             ],
             [
              0.2222222222222222,
              "#7201a8"
             ],
             [
              0.3333333333333333,
              "#9c179e"
             ],
             [
              0.4444444444444444,
              "#bd3786"
             ],
             [
              0.5555555555555556,
              "#d8576b"
             ],
             [
              0.6666666666666666,
              "#ed7953"
             ],
             [
              0.7777777777777778,
              "#fb9f3a"
             ],
             [
              0.8888888888888888,
              "#fdca26"
             ],
             [
              1,
              "#f0f921"
             ]
            ],
            "type": "contour"
           }
          ],
          "contourcarpet": [
           {
            "colorbar": {
             "outlinewidth": 0,
             "ticks": ""
            },
            "type": "contourcarpet"
           }
          ],
          "heatmap": [
           {
            "colorbar": {
             "outlinewidth": 0,
             "ticks": ""
            },
            "colorscale": [
             [
              0,
              "#0d0887"
             ],
             [
              0.1111111111111111,
              "#46039f"
             ],
             [
              0.2222222222222222,
              "#7201a8"
             ],
             [
              0.3333333333333333,
              "#9c179e"
             ],
             [
              0.4444444444444444,
              "#bd3786"
             ],
             [
              0.5555555555555556,
              "#d8576b"
             ],
             [
              0.6666666666666666,
              "#ed7953"
             ],
             [
              0.7777777777777778,
              "#fb9f3a"
             ],
             [
              0.8888888888888888,
              "#fdca26"
             ],
             [
              1,
              "#f0f921"
             ]
            ],
            "type": "heatmap"
           }
          ],
          "heatmapgl": [
           {
            "colorbar": {
             "outlinewidth": 0,
             "ticks": ""
            },
            "colorscale": [
             [
              0,
              "#0d0887"
             ],
             [
              0.1111111111111111,
              "#46039f"
             ],
             [
              0.2222222222222222,
              "#7201a8"
             ],
             [
              0.3333333333333333,
              "#9c179e"
             ],
             [
              0.4444444444444444,
              "#bd3786"
             ],
             [
              0.5555555555555556,
              "#d8576b"
             ],
             [
              0.6666666666666666,
              "#ed7953"
             ],
             [
              0.7777777777777778,
              "#fb9f3a"
             ],
             [
              0.8888888888888888,
              "#fdca26"
             ],
             [
              1,
              "#f0f921"
             ]
            ],
            "type": "heatmapgl"
           }
          ],
          "histogram": [
           {
            "marker": {
             "pattern": {
              "fillmode": "overlay",
              "size": 10,
              "solidity": 0.2
             }
            },
            "type": "histogram"
           }
          ],
          "histogram2d": [
           {
            "colorbar": {
             "outlinewidth": 0,
             "ticks": ""
            },
            "colorscale": [
             [
              0,
              "#0d0887"
             ],
             [
              0.1111111111111111,
              "#46039f"
             ],
             [
              0.2222222222222222,
              "#7201a8"
             ],
             [
              0.3333333333333333,
              "#9c179e"
             ],
             [
              0.4444444444444444,
              "#bd3786"
             ],
             [
              0.5555555555555556,
              "#d8576b"
             ],
             [
              0.6666666666666666,
              "#ed7953"
             ],
             [
              0.7777777777777778,
              "#fb9f3a"
             ],
             [
              0.8888888888888888,
              "#fdca26"
             ],
             [
              1,
              "#f0f921"
             ]
            ],
            "type": "histogram2d"
           }
          ],
          "histogram2dcontour": [
           {
            "colorbar": {
             "outlinewidth": 0,
             "ticks": ""
            },
            "colorscale": [
             [
              0,
              "#0d0887"
             ],
             [
              0.1111111111111111,
              "#46039f"
             ],
             [
              0.2222222222222222,
              "#7201a8"
             ],
             [
              0.3333333333333333,
              "#9c179e"
             ],
             [
              0.4444444444444444,
              "#bd3786"
             ],
             [
              0.5555555555555556,
              "#d8576b"
             ],
             [
              0.6666666666666666,
              "#ed7953"
             ],
             [
              0.7777777777777778,
              "#fb9f3a"
             ],
             [
              0.8888888888888888,
              "#fdca26"
             ],
             [
              1,
              "#f0f921"
             ]
            ],
            "type": "histogram2dcontour"
           }
          ],
          "mesh3d": [
           {
            "colorbar": {
             "outlinewidth": 0,
             "ticks": ""
            },
            "type": "mesh3d"
           }
          ],
          "parcoords": [
           {
            "line": {
             "colorbar": {
              "outlinewidth": 0,
              "ticks": ""
             }
            },
            "type": "parcoords"
           }
          ],
          "pie": [
           {
            "automargin": true,
            "type": "pie"
           }
          ],
          "scatter": [
           {
            "fillpattern": {
             "fillmode": "overlay",
             "size": 10,
             "solidity": 0.2
            },
            "type": "scatter"
           }
          ],
          "scatter3d": [
           {
            "line": {
             "colorbar": {
              "outlinewidth": 0,
              "ticks": ""
             }
            },
            "marker": {
             "colorbar": {
              "outlinewidth": 0,
              "ticks": ""
             }
            },
            "type": "scatter3d"
           }
          ],
          "scattercarpet": [
           {
            "marker": {
             "colorbar": {
              "outlinewidth": 0,
              "ticks": ""
             }
            },
            "type": "scattercarpet"
           }
          ],
          "scattergeo": [
           {
            "marker": {
             "colorbar": {
              "outlinewidth": 0,
              "ticks": ""
             }
            },
            "type": "scattergeo"
           }
          ],
          "scattergl": [
           {
            "marker": {
             "colorbar": {
              "outlinewidth": 0,
              "ticks": ""
             }
            },
            "type": "scattergl"
           }
          ],
          "scattermapbox": [
           {
            "marker": {
             "colorbar": {
              "outlinewidth": 0,
              "ticks": ""
             }
            },
            "type": "scattermapbox"
           }
          ],
          "scatterpolar": [
           {
            "marker": {
             "colorbar": {
              "outlinewidth": 0,
              "ticks": ""
             }
            },
            "type": "scatterpolar"
           }
          ],
          "scatterpolargl": [
           {
            "marker": {
             "colorbar": {
              "outlinewidth": 0,
              "ticks": ""
             }
            },
            "type": "scatterpolargl"
           }
          ],
          "scatterternary": [
           {
            "marker": {
             "colorbar": {
              "outlinewidth": 0,
              "ticks": ""
             }
            },
            "type": "scatterternary"
           }
          ],
          "surface": [
           {
            "colorbar": {
             "outlinewidth": 0,
             "ticks": ""
            },
            "colorscale": [
             [
              0,
              "#0d0887"
             ],
             [
              0.1111111111111111,
              "#46039f"
             ],
             [
              0.2222222222222222,
              "#7201a8"
             ],
             [
              0.3333333333333333,
              "#9c179e"
             ],
             [
              0.4444444444444444,
              "#bd3786"
             ],
             [
              0.5555555555555556,
              "#d8576b"
             ],
             [
              0.6666666666666666,
              "#ed7953"
             ],
             [
              0.7777777777777778,
              "#fb9f3a"
             ],
             [
              0.8888888888888888,
              "#fdca26"
             ],
             [
              1,
              "#f0f921"
             ]
            ],
            "type": "surface"
           }
          ],
          "table": [
           {
            "cells": {
             "fill": {
              "color": "#EBF0F8"
             },
             "line": {
              "color": "white"
             }
            },
            "header": {
             "fill": {
              "color": "#C8D4E3"
             },
             "line": {
              "color": "white"
             }
            },
            "type": "table"
           }
          ]
         },
         "layout": {
          "annotationdefaults": {
           "arrowcolor": "#2a3f5f",
           "arrowhead": 0,
           "arrowwidth": 1
          },
          "autotypenumbers": "strict",
          "coloraxis": {
           "colorbar": {
            "outlinewidth": 0,
            "ticks": ""
           }
          },
          "colorscale": {
           "diverging": [
            [
             0,
             "#8e0152"
            ],
            [
             0.1,
             "#c51b7d"
            ],
            [
             0.2,
             "#de77ae"
            ],
            [
             0.3,
             "#f1b6da"
            ],
            [
             0.4,
             "#fde0ef"
            ],
            [
             0.5,
             "#f7f7f7"
            ],
            [
             0.6,
             "#e6f5d0"
            ],
            [
             0.7,
             "#b8e186"
            ],
            [
             0.8,
             "#7fbc41"
            ],
            [
             0.9,
             "#4d9221"
            ],
            [
             1,
             "#276419"
            ]
           ],
           "sequential": [
            [
             0,
             "#0d0887"
            ],
            [
             0.1111111111111111,
             "#46039f"
            ],
            [
             0.2222222222222222,
             "#7201a8"
            ],
            [
             0.3333333333333333,
             "#9c179e"
            ],
            [
             0.4444444444444444,
             "#bd3786"
            ],
            [
             0.5555555555555556,
             "#d8576b"
            ],
            [
             0.6666666666666666,
             "#ed7953"
            ],
            [
             0.7777777777777778,
             "#fb9f3a"
            ],
            [
             0.8888888888888888,
             "#fdca26"
            ],
            [
             1,
             "#f0f921"
            ]
           ],
           "sequentialminus": [
            [
             0,
             "#0d0887"
            ],
            [
             0.1111111111111111,
             "#46039f"
            ],
            [
             0.2222222222222222,
             "#7201a8"
            ],
            [
             0.3333333333333333,
             "#9c179e"
            ],
            [
             0.4444444444444444,
             "#bd3786"
            ],
            [
             0.5555555555555556,
             "#d8576b"
            ],
            [
             0.6666666666666666,
             "#ed7953"
            ],
            [
             0.7777777777777778,
             "#fb9f3a"
            ],
            [
             0.8888888888888888,
             "#fdca26"
            ],
            [
             1,
             "#f0f921"
            ]
           ]
          },
          "colorway": [
           "#636efa",
           "#EF553B",
           "#00cc96",
           "#ab63fa",
           "#FFA15A",
           "#19d3f3",
           "#FF6692",
           "#B6E880",
           "#FF97FF",
           "#FECB52"
          ],
          "font": {
           "color": "#2a3f5f"
          },
          "geo": {
           "bgcolor": "white",
           "lakecolor": "white",
           "landcolor": "white",
           "showlakes": true,
           "showland": true,
           "subunitcolor": "#C8D4E3"
          },
          "hoverlabel": {
           "align": "left"
          },
          "hovermode": "closest",
          "mapbox": {
           "style": "light"
          },
          "paper_bgcolor": "white",
          "plot_bgcolor": "white",
          "polar": {
           "angularaxis": {
            "gridcolor": "#EBF0F8",
            "linecolor": "#EBF0F8",
            "ticks": ""
           },
           "bgcolor": "white",
           "radialaxis": {
            "gridcolor": "#EBF0F8",
            "linecolor": "#EBF0F8",
            "ticks": ""
           }
          },
          "scene": {
           "xaxis": {
            "backgroundcolor": "white",
            "gridcolor": "#DFE8F3",
            "gridwidth": 2,
            "linecolor": "#EBF0F8",
            "showbackground": true,
            "ticks": "",
            "zerolinecolor": "#EBF0F8"
           },
           "yaxis": {
            "backgroundcolor": "white",
            "gridcolor": "#DFE8F3",
            "gridwidth": 2,
            "linecolor": "#EBF0F8",
            "showbackground": true,
            "ticks": "",
            "zerolinecolor": "#EBF0F8"
           },
           "zaxis": {
            "backgroundcolor": "white",
            "gridcolor": "#DFE8F3",
            "gridwidth": 2,
            "linecolor": "#EBF0F8",
            "showbackground": true,
            "ticks": "",
            "zerolinecolor": "#EBF0F8"
           }
          },
          "shapedefaults": {
           "line": {
            "color": "#2a3f5f"
           }
          },
          "ternary": {
           "aaxis": {
            "gridcolor": "#DFE8F3",
            "linecolor": "#A2B1C6",
            "ticks": ""
           },
           "baxis": {
            "gridcolor": "#DFE8F3",
            "linecolor": "#A2B1C6",
            "ticks": ""
           },
           "bgcolor": "white",
           "caxis": {
            "gridcolor": "#DFE8F3",
            "linecolor": "#A2B1C6",
            "ticks": ""
           }
          },
          "title": {
           "x": 0.05
          },
          "xaxis": {
           "automargin": true,
           "gridcolor": "#EBF0F8",
           "linecolor": "#EBF0F8",
           "ticks": "",
           "title": {
            "standoff": 15
           },
           "zerolinecolor": "#EBF0F8",
           "zerolinewidth": 2
          },
          "yaxis": {
           "automargin": true,
           "gridcolor": "#EBF0F8",
           "linecolor": "#EBF0F8",
           "ticks": "",
           "title": {
            "standoff": 15
           },
           "zerolinecolor": "#EBF0F8",
           "zerolinewidth": 2
          }
         }
        },
        "title": {
         "font": {
          "size": 13.2
         },
         "text": "Time Series Plot"
        },
        "xaxis": {
         "anchor": "y",
         "domain": [
          0,
          1
         ],
         "showticklabels": true,
         "tickfont": {
          "size": 8.8
         },
         "tickformat": "%b %Y",
         "title": {
          "text": ""
         },
         "visible": true
        },
        "yaxis": {
         "anchor": "x",
         "domain": [
          0,
          1
         ],
         "tickfont": {
          "size": 8.8
         },
         "title": {
          "text": ""
         }
        }
       }
      }
     },
     "metadata": {},
     "output_type": "display_data"
    }
   ],
   "source": [
    "(df[['order_date','payment']].summarize_by_time(\n",
    "    date_column = 'order_date',\n",
    "    value_column = 'payment',\n",
    "    agg_func = 'sum',\n",
    "    freq = 'D'\n",
    ")\n",
    " .plot_timeseries('order_date','payment'))"
   ]
  },
  {
   "cell_type": "code",
   "execution_count": 12,
   "metadata": {},
   "outputs": [
    {
     "data": {
      "application/vnd.plotly.v1+json": {
       "config": {
        "plotlyServerURL": "https://plot.ly"
       },
       "data": [
        {
         "hoverlabel": {
          "font": {
           "size": 8.8
          }
         },
         "line": {
          "color": "rgba(44, 62, 80, 1.0)",
          "width": 0.65
         },
         "mode": "lines",
         "name": "Time Series",
         "showlegend": false,
         "type": "scatter",
         "x": [
          "2021-04-01T00:00:00",
          "2021-04-02T00:00:00",
          "2021-04-03T00:00:00",
          "2021-04-04T00:00:00",
          "2021-04-05T00:00:00",
          "2021-04-06T00:00:00",
          "2021-04-07T00:00:00",
          "2021-04-08T00:00:00",
          "2021-04-09T00:00:00",
          "2021-04-10T00:00:00",
          "2021-04-11T00:00:00",
          "2021-04-12T00:00:00",
          "2021-04-13T00:00:00",
          "2021-04-14T00:00:00",
          "2021-04-15T00:00:00",
          "2021-04-16T00:00:00",
          "2021-04-17T00:00:00",
          "2021-04-18T00:00:00",
          "2021-04-19T00:00:00",
          "2021-04-20T00:00:00",
          "2021-04-21T00:00:00",
          "2021-04-22T00:00:00",
          "2021-04-23T00:00:00",
          "2021-04-24T00:00:00",
          "2021-04-25T00:00:00",
          "2021-04-26T00:00:00",
          "2021-04-27T00:00:00",
          "2021-04-28T00:00:00",
          "2021-04-29T00:00:00",
          "2021-04-30T00:00:00"
         ],
         "y": [
          77521,
          47697,
          131443,
          78927,
          104078,
          97615,
          173358,
          107414,
          54353,
          113505,
          232463,
          28484,
          158034,
          170838,
          105651,
          130747,
          116972,
          119453,
          69580,
          114233,
          62889,
          32031,
          52928,
          67236,
          203610,
          71815,
          35465,
          165456,
          188112,
          121352
         ]
        },
        {
         "hoverlabel": {
          "font": {
           "size": 8.8
          }
         },
         "line": {
          "color": "rgba(51, 102, 255, 1.0)",
          "width": 1
         },
         "mode": "lines",
         "name": "Smoother",
         "showlegend": false,
         "type": "scatter",
         "x": [
          "2021-04-01T00:00:00",
          "2021-04-02T00:00:00",
          "2021-04-03T00:00:00",
          "2021-04-04T00:00:00",
          "2021-04-05T00:00:00",
          "2021-04-06T00:00:00",
          "2021-04-07T00:00:00",
          "2021-04-08T00:00:00",
          "2021-04-09T00:00:00",
          "2021-04-10T00:00:00",
          "2021-04-11T00:00:00",
          "2021-04-12T00:00:00",
          "2021-04-13T00:00:00",
          "2021-04-14T00:00:00",
          "2021-04-15T00:00:00",
          "2021-04-16T00:00:00",
          "2021-04-17T00:00:00",
          "2021-04-18T00:00:00",
          "2021-04-19T00:00:00",
          "2021-04-20T00:00:00",
          "2021-04-21T00:00:00",
          "2021-04-22T00:00:00",
          "2021-04-23T00:00:00",
          "2021-04-24T00:00:00",
          "2021-04-25T00:00:00",
          "2021-04-26T00:00:00",
          "2021-04-27T00:00:00",
          "2021-04-28T00:00:00",
          "2021-04-29T00:00:00",
          "2021-04-30T00:00:00"
         ],
         "y": [
          68772.13931298109,
          79118.30829223996,
          87184.65174160719,
          96623.04793259698,
          103903.27751303329,
          115275.69839637574,
          115215.74683750012,
          109342.12092519781,
          104555.38129358734,
          114421.18980387613,
          124844.06187547275,
          144795.1776592861,
          147387.94205929223,
          142834.98488479955,
          135402.6785573697,
          123836.46712813115,
          115581.18534581357,
          106736.68842735159,
          97805.47925343676,
          81669.20190860068,
          67649.20296263187,
          57061.00294375819,
          56703.73084720872,
          68730.5362051425,
          70830.08213476274,
          79417.92902466294,
          99208.2818579511,
          127724.77561124769,
          145137.2058795718,
          159852.12810415364
         ]
        }
       ],
       "layout": {
        "autosize": true,
        "font": {
         "size": 11
        },
        "legend": {
         "font": {
          "size": 8.8
         },
         "title": {
          "font": {
           "size": 8.8
          },
          "text": "Legend"
         }
        },
        "margin": {
         "b": 40,
         "l": 10,
         "r": 10,
         "t": 40
        },
        "template": {
         "data": {
          "bar": [
           {
            "error_x": {
             "color": "#2a3f5f"
            },
            "error_y": {
             "color": "#2a3f5f"
            },
            "marker": {
             "line": {
              "color": "white",
              "width": 0.5
             },
             "pattern": {
              "fillmode": "overlay",
              "size": 10,
              "solidity": 0.2
             }
            },
            "type": "bar"
           }
          ],
          "barpolar": [
           {
            "marker": {
             "line": {
              "color": "white",
              "width": 0.5
             },
             "pattern": {
              "fillmode": "overlay",
              "size": 10,
              "solidity": 0.2
             }
            },
            "type": "barpolar"
           }
          ],
          "carpet": [
           {
            "aaxis": {
             "endlinecolor": "#2a3f5f",
             "gridcolor": "#C8D4E3",
             "linecolor": "#C8D4E3",
             "minorgridcolor": "#C8D4E3",
             "startlinecolor": "#2a3f5f"
            },
            "baxis": {
             "endlinecolor": "#2a3f5f",
             "gridcolor": "#C8D4E3",
             "linecolor": "#C8D4E3",
             "minorgridcolor": "#C8D4E3",
             "startlinecolor": "#2a3f5f"
            },
            "type": "carpet"
           }
          ],
          "choropleth": [
           {
            "colorbar": {
             "outlinewidth": 0,
             "ticks": ""
            },
            "type": "choropleth"
           }
          ],
          "contour": [
           {
            "colorbar": {
             "outlinewidth": 0,
             "ticks": ""
            },
            "colorscale": [
             [
              0,
              "#0d0887"
             ],
             [
              0.1111111111111111,
              "#46039f"
             ],
             [
              0.2222222222222222,
              "#7201a8"
             ],
             [
              0.3333333333333333,
              "#9c179e"
             ],
             [
              0.4444444444444444,
              "#bd3786"
             ],
             [
              0.5555555555555556,
              "#d8576b"
             ],
             [
              0.6666666666666666,
              "#ed7953"
             ],
             [
              0.7777777777777778,
              "#fb9f3a"
             ],
             [
              0.8888888888888888,
              "#fdca26"
             ],
             [
              1,
              "#f0f921"
             ]
            ],
            "type": "contour"
           }
          ],
          "contourcarpet": [
           {
            "colorbar": {
             "outlinewidth": 0,
             "ticks": ""
            },
            "type": "contourcarpet"
           }
          ],
          "heatmap": [
           {
            "colorbar": {
             "outlinewidth": 0,
             "ticks": ""
            },
            "colorscale": [
             [
              0,
              "#0d0887"
             ],
             [
              0.1111111111111111,
              "#46039f"
             ],
             [
              0.2222222222222222,
              "#7201a8"
             ],
             [
              0.3333333333333333,
              "#9c179e"
             ],
             [
              0.4444444444444444,
              "#bd3786"
             ],
             [
              0.5555555555555556,
              "#d8576b"
             ],
             [
              0.6666666666666666,
              "#ed7953"
             ],
             [
              0.7777777777777778,
              "#fb9f3a"
             ],
             [
              0.8888888888888888,
              "#fdca26"
             ],
             [
              1,
              "#f0f921"
             ]
            ],
            "type": "heatmap"
           }
          ],
          "heatmapgl": [
           {
            "colorbar": {
             "outlinewidth": 0,
             "ticks": ""
            },
            "colorscale": [
             [
              0,
              "#0d0887"
             ],
             [
              0.1111111111111111,
              "#46039f"
             ],
             [
              0.2222222222222222,
              "#7201a8"
             ],
             [
              0.3333333333333333,
              "#9c179e"
             ],
             [
              0.4444444444444444,
              "#bd3786"
             ],
             [
              0.5555555555555556,
              "#d8576b"
             ],
             [
              0.6666666666666666,
              "#ed7953"
             ],
             [
              0.7777777777777778,
              "#fb9f3a"
             ],
             [
              0.8888888888888888,
              "#fdca26"
             ],
             [
              1,
              "#f0f921"
             ]
            ],
            "type": "heatmapgl"
           }
          ],
          "histogram": [
           {
            "marker": {
             "pattern": {
              "fillmode": "overlay",
              "size": 10,
              "solidity": 0.2
             }
            },
            "type": "histogram"
           }
          ],
          "histogram2d": [
           {
            "colorbar": {
             "outlinewidth": 0,
             "ticks": ""
            },
            "colorscale": [
             [
              0,
              "#0d0887"
             ],
             [
              0.1111111111111111,
              "#46039f"
             ],
             [
              0.2222222222222222,
              "#7201a8"
             ],
             [
              0.3333333333333333,
              "#9c179e"
             ],
             [
              0.4444444444444444,
              "#bd3786"
             ],
             [
              0.5555555555555556,
              "#d8576b"
             ],
             [
              0.6666666666666666,
              "#ed7953"
             ],
             [
              0.7777777777777778,
              "#fb9f3a"
             ],
             [
              0.8888888888888888,
              "#fdca26"
             ],
             [
              1,
              "#f0f921"
             ]
            ],
            "type": "histogram2d"
           }
          ],
          "histogram2dcontour": [
           {
            "colorbar": {
             "outlinewidth": 0,
             "ticks": ""
            },
            "colorscale": [
             [
              0,
              "#0d0887"
             ],
             [
              0.1111111111111111,
              "#46039f"
             ],
             [
              0.2222222222222222,
              "#7201a8"
             ],
             [
              0.3333333333333333,
              "#9c179e"
             ],
             [
              0.4444444444444444,
              "#bd3786"
             ],
             [
              0.5555555555555556,
              "#d8576b"
             ],
             [
              0.6666666666666666,
              "#ed7953"
             ],
             [
              0.7777777777777778,
              "#fb9f3a"
             ],
             [
              0.8888888888888888,
              "#fdca26"
             ],
             [
              1,
              "#f0f921"
             ]
            ],
            "type": "histogram2dcontour"
           }
          ],
          "mesh3d": [
           {
            "colorbar": {
             "outlinewidth": 0,
             "ticks": ""
            },
            "type": "mesh3d"
           }
          ],
          "parcoords": [
           {
            "line": {
             "colorbar": {
              "outlinewidth": 0,
              "ticks": ""
             }
            },
            "type": "parcoords"
           }
          ],
          "pie": [
           {
            "automargin": true,
            "type": "pie"
           }
          ],
          "scatter": [
           {
            "fillpattern": {
             "fillmode": "overlay",
             "size": 10,
             "solidity": 0.2
            },
            "type": "scatter"
           }
          ],
          "scatter3d": [
           {
            "line": {
             "colorbar": {
              "outlinewidth": 0,
              "ticks": ""
             }
            },
            "marker": {
             "colorbar": {
              "outlinewidth": 0,
              "ticks": ""
             }
            },
            "type": "scatter3d"
           }
          ],
          "scattercarpet": [
           {
            "marker": {
             "colorbar": {
              "outlinewidth": 0,
              "ticks": ""
             }
            },
            "type": "scattercarpet"
           }
          ],
          "scattergeo": [
           {
            "marker": {
             "colorbar": {
              "outlinewidth": 0,
              "ticks": ""
             }
            },
            "type": "scattergeo"
           }
          ],
          "scattergl": [
           {
            "marker": {
             "colorbar": {
              "outlinewidth": 0,
              "ticks": ""
             }
            },
            "type": "scattergl"
           }
          ],
          "scattermapbox": [
           {
            "marker": {
             "colorbar": {
              "outlinewidth": 0,
              "ticks": ""
             }
            },
            "type": "scattermapbox"
           }
          ],
          "scatterpolar": [
           {
            "marker": {
             "colorbar": {
              "outlinewidth": 0,
              "ticks": ""
             }
            },
            "type": "scatterpolar"
           }
          ],
          "scatterpolargl": [
           {
            "marker": {
             "colorbar": {
              "outlinewidth": 0,
              "ticks": ""
             }
            },
            "type": "scatterpolargl"
           }
          ],
          "scatterternary": [
           {
            "marker": {
             "colorbar": {
              "outlinewidth": 0,
              "ticks": ""
             }
            },
            "type": "scatterternary"
           }
          ],
          "surface": [
           {
            "colorbar": {
             "outlinewidth": 0,
             "ticks": ""
            },
            "colorscale": [
             [
              0,
              "#0d0887"
             ],
             [
              0.1111111111111111,
              "#46039f"
             ],
             [
              0.2222222222222222,
              "#7201a8"
             ],
             [
              0.3333333333333333,
              "#9c179e"
             ],
             [
              0.4444444444444444,
              "#bd3786"
             ],
             [
              0.5555555555555556,
              "#d8576b"
             ],
             [
              0.6666666666666666,
              "#ed7953"
             ],
             [
              0.7777777777777778,
              "#fb9f3a"
             ],
             [
              0.8888888888888888,
              "#fdca26"
             ],
             [
              1,
              "#f0f921"
             ]
            ],
            "type": "surface"
           }
          ],
          "table": [
           {
            "cells": {
             "fill": {
              "color": "#EBF0F8"
             },
             "line": {
              "color": "white"
             }
            },
            "header": {
             "fill": {
              "color": "#C8D4E3"
             },
             "line": {
              "color": "white"
             }
            },
            "type": "table"
           }
          ]
         },
         "layout": {
          "annotationdefaults": {
           "arrowcolor": "#2a3f5f",
           "arrowhead": 0,
           "arrowwidth": 1
          },
          "autotypenumbers": "strict",
          "coloraxis": {
           "colorbar": {
            "outlinewidth": 0,
            "ticks": ""
           }
          },
          "colorscale": {
           "diverging": [
            [
             0,
             "#8e0152"
            ],
            [
             0.1,
             "#c51b7d"
            ],
            [
             0.2,
             "#de77ae"
            ],
            [
             0.3,
             "#f1b6da"
            ],
            [
             0.4,
             "#fde0ef"
            ],
            [
             0.5,
             "#f7f7f7"
            ],
            [
             0.6,
             "#e6f5d0"
            ],
            [
             0.7,
             "#b8e186"
            ],
            [
             0.8,
             "#7fbc41"
            ],
            [
             0.9,
             "#4d9221"
            ],
            [
             1,
             "#276419"
            ]
           ],
           "sequential": [
            [
             0,
             "#0d0887"
            ],
            [
             0.1111111111111111,
             "#46039f"
            ],
            [
             0.2222222222222222,
             "#7201a8"
            ],
            [
             0.3333333333333333,
             "#9c179e"
            ],
            [
             0.4444444444444444,
             "#bd3786"
            ],
            [
             0.5555555555555556,
             "#d8576b"
            ],
            [
             0.6666666666666666,
             "#ed7953"
            ],
            [
             0.7777777777777778,
             "#fb9f3a"
            ],
            [
             0.8888888888888888,
             "#fdca26"
            ],
            [
             1,
             "#f0f921"
            ]
           ],
           "sequentialminus": [
            [
             0,
             "#0d0887"
            ],
            [
             0.1111111111111111,
             "#46039f"
            ],
            [
             0.2222222222222222,
             "#7201a8"
            ],
            [
             0.3333333333333333,
             "#9c179e"
            ],
            [
             0.4444444444444444,
             "#bd3786"
            ],
            [
             0.5555555555555556,
             "#d8576b"
            ],
            [
             0.6666666666666666,
             "#ed7953"
            ],
            [
             0.7777777777777778,
             "#fb9f3a"
            ],
            [
             0.8888888888888888,
             "#fdca26"
            ],
            [
             1,
             "#f0f921"
            ]
           ]
          },
          "colorway": [
           "#636efa",
           "#EF553B",
           "#00cc96",
           "#ab63fa",
           "#FFA15A",
           "#19d3f3",
           "#FF6692",
           "#B6E880",
           "#FF97FF",
           "#FECB52"
          ],
          "font": {
           "color": "#2a3f5f"
          },
          "geo": {
           "bgcolor": "white",
           "lakecolor": "white",
           "landcolor": "white",
           "showlakes": true,
           "showland": true,
           "subunitcolor": "#C8D4E3"
          },
          "hoverlabel": {
           "align": "left"
          },
          "hovermode": "closest",
          "mapbox": {
           "style": "light"
          },
          "paper_bgcolor": "white",
          "plot_bgcolor": "white",
          "polar": {
           "angularaxis": {
            "gridcolor": "#EBF0F8",
            "linecolor": "#EBF0F8",
            "ticks": ""
           },
           "bgcolor": "white",
           "radialaxis": {
            "gridcolor": "#EBF0F8",
            "linecolor": "#EBF0F8",
            "ticks": ""
           }
          },
          "scene": {
           "xaxis": {
            "backgroundcolor": "white",
            "gridcolor": "#DFE8F3",
            "gridwidth": 2,
            "linecolor": "#EBF0F8",
            "showbackground": true,
            "ticks": "",
            "zerolinecolor": "#EBF0F8"
           },
           "yaxis": {
            "backgroundcolor": "white",
            "gridcolor": "#DFE8F3",
            "gridwidth": 2,
            "linecolor": "#EBF0F8",
            "showbackground": true,
            "ticks": "",
            "zerolinecolor": "#EBF0F8"
           },
           "zaxis": {
            "backgroundcolor": "white",
            "gridcolor": "#DFE8F3",
            "gridwidth": 2,
            "linecolor": "#EBF0F8",
            "showbackground": true,
            "ticks": "",
            "zerolinecolor": "#EBF0F8"
           }
          },
          "shapedefaults": {
           "line": {
            "color": "#2a3f5f"
           }
          },
          "ternary": {
           "aaxis": {
            "gridcolor": "#DFE8F3",
            "linecolor": "#A2B1C6",
            "ticks": ""
           },
           "baxis": {
            "gridcolor": "#DFE8F3",
            "linecolor": "#A2B1C6",
            "ticks": ""
           },
           "bgcolor": "white",
           "caxis": {
            "gridcolor": "#DFE8F3",
            "linecolor": "#A2B1C6",
            "ticks": ""
           }
          },
          "title": {
           "x": 0.05
          },
          "xaxis": {
           "automargin": true,
           "gridcolor": "#EBF0F8",
           "linecolor": "#EBF0F8",
           "ticks": "",
           "title": {
            "standoff": 15
           },
           "zerolinecolor": "#EBF0F8",
           "zerolinewidth": 2
          },
          "yaxis": {
           "automargin": true,
           "gridcolor": "#EBF0F8",
           "linecolor": "#EBF0F8",
           "ticks": "",
           "title": {
            "standoff": 15
           },
           "zerolinecolor": "#EBF0F8",
           "zerolinewidth": 2
          }
         }
        },
        "title": {
         "font": {
          "size": 13.2
         },
         "text": "Time Series Plot"
        },
        "xaxis": {
         "anchor": "y",
         "domain": [
          0,
          1
         ],
         "showticklabels": true,
         "tickfont": {
          "size": 8.8
         },
         "tickformat": "%b %Y",
         "title": {
          "text": ""
         },
         "visible": true
        },
        "yaxis": {
         "anchor": "x",
         "domain": [
          0,
          1
         ],
         "tickfont": {
          "size": 8.8
         },
         "title": {
          "text": ""
         }
        }
       }
      }
     },
     "metadata": {},
     "output_type": "display_data"
    }
   ],
   "source": [
    "(df1[['order_date','payment']].summarize_by_time(\n",
    "    date_column = 'order_date',\n",
    "    value_column = 'payment',\n",
    "    agg_func = 'sum',\n",
    "    freq = 'D'\n",
    ")\n",
    " .plot_timeseries('order_date','payment'))"
   ]
  },
  {
   "cell_type": "markdown",
   "metadata": {},
   "source": [
    "# Machine Learning Models\n",
    "### Task:\n",
    "- What will be the customers spend in the next 90 days? (Regression Problem)\n",
    "- What is the probablilty for a customer to make another purchase in the next 90 days? (Classification Problem) \n",
    "\n",
    "## ETL"
   ]
  },
  {
   "cell_type": "code",
   "execution_count": 48,
   "metadata": {},
   "outputs": [],
   "source": [
    "# Set Parameters\n",
    "n_days = 90\n",
    "max_date = df['order_date'].max()\n",
    "cutoff = max_date - pd.to_timedelta(n_days, unit='d')"
   ]
  },
  {
   "cell_type": "code",
   "execution_count": 16,
   "metadata": {},
   "outputs": [],
   "source": [
    "# Train-Test Split\n",
    "temporal_in_df = df[df['order_date'] < cutoff]\n",
    "\n",
    "temporal_out_df = (df[df['order_date'] >= cutoff]\n",
    "                   .query('customer_id in @temporal_in_df.customer_id'))"
   ]
  },
  {
   "cell_type": "code",
   "execution_count": 17,
   "metadata": {},
   "outputs": [
    {
     "name": "stdout",
     "output_type": "stream",
     "text": [
      "<class 'pandas.core.frame.DataFrame'>: 157 rows of 5 columns\n",
      "order_id:       int64             [3, 6, 10, 24, 28, 36, 42, 50, 52, 84, ...\n",
      "customer_id:    int64             [774, 800, 659, 469, 206, 51, 690, 454 ...\n",
      "payment:        int64             [46763, 16197, 21922, 14566, 29968, 32 ...\n",
      "order_date:     datetime64[ns]    [Timestamp('2021-10-08 00:00:00'), Tim ...\n",
      "delivery_date:  object            ['2021-11-03', '2021-10-05', '2021-10- ...\n"
     ]
    }
   ],
   "source": [
    "temporal_out_df.glimpse()"
   ]
  },
  {
   "cell_type": "markdown",
   "metadata": {},
   "source": [
    "## Feature Enginerring"
   ]
  },
  {
   "cell_type": "markdown",
   "metadata": {},
   "source": [
    "### Main Features"
   ]
  },
  {
   "cell_type": "code",
   "execution_count": 22,
   "metadata": {},
   "outputs": [
    {
     "data": {
      "text/html": [
       "<div>\n",
       "<style scoped>\n",
       "    .dataframe tbody tr th:only-of-type {\n",
       "        vertical-align: middle;\n",
       "    }\n",
       "\n",
       "    .dataframe tbody tr th {\n",
       "        vertical-align: top;\n",
       "    }\n",
       "\n",
       "    .dataframe thead th {\n",
       "        text-align: right;\n",
       "    }\n",
       "</style>\n",
       "<table border=\"1\" class=\"dataframe\">\n",
       "  <thead>\n",
       "    <tr style=\"text-align: right;\">\n",
       "      <th></th>\n",
       "      <th>sales_90_value</th>\n",
       "      <th>sales_90_flag</th>\n",
       "    </tr>\n",
       "    <tr>\n",
       "      <th>customer_id</th>\n",
       "      <th></th>\n",
       "      <th></th>\n",
       "    </tr>\n",
       "  </thead>\n",
       "  <tbody>\n",
       "    <tr>\n",
       "      <th>15</th>\n",
       "      <td>50335</td>\n",
       "      <td>1</td>\n",
       "    </tr>\n",
       "    <tr>\n",
       "      <th>20</th>\n",
       "      <td>37821</td>\n",
       "      <td>1</td>\n",
       "    </tr>\n",
       "    <tr>\n",
       "      <th>28</th>\n",
       "      <td>39533</td>\n",
       "      <td>1</td>\n",
       "    </tr>\n",
       "  </tbody>\n",
       "</table>\n",
       "</div>"
      ],
      "text/plain": [
       "             sales_90_value  sales_90_flag\n",
       "customer_id                               \n",
       "15                    50335              1\n",
       "20                    37821              1\n",
       "28                    39533              1"
      ]
     },
     "execution_count": 22,
     "metadata": {},
     "output_type": "execute_result"
    }
   ],
   "source": [
    "# Make Targets from out data. \n",
    "targets_df = (temporal_out_df[['customer_id', \n",
    "                               'payment']]\n",
    "              .groupby('customer_id')\n",
    "              .sum()\n",
    "              .rename({'payment':'sales_90_value'}, axis = 1)\n",
    "              .assign(sales_90_flag = 1)\n",
    ")\n",
    "\n",
    "targets_df.head(3)"
   ]
  },
  {
   "cell_type": "code",
   "execution_count": 25,
   "metadata": {},
   "outputs": [
    {
     "data": {
      "text/html": [
       "<div>\n",
       "<style scoped>\n",
       "    .dataframe tbody tr th:only-of-type {\n",
       "        vertical-align: middle;\n",
       "    }\n",
       "\n",
       "    .dataframe tbody tr th {\n",
       "        vertical-align: top;\n",
       "    }\n",
       "\n",
       "    .dataframe thead th {\n",
       "        text-align: right;\n",
       "    }\n",
       "</style>\n",
       "<table border=\"1\" class=\"dataframe\">\n",
       "  <thead>\n",
       "    <tr style=\"text-align: right;\">\n",
       "      <th></th>\n",
       "      <th>recency</th>\n",
       "    </tr>\n",
       "    <tr>\n",
       "      <th>customer_id</th>\n",
       "      <th></th>\n",
       "    </tr>\n",
       "  </thead>\n",
       "  <tbody>\n",
       "    <tr>\n",
       "      <th>1</th>\n",
       "      <td>-203</td>\n",
       "    </tr>\n",
       "    <tr>\n",
       "      <th>7</th>\n",
       "      <td>-156</td>\n",
       "    </tr>\n",
       "    <tr>\n",
       "      <th>10</th>\n",
       "      <td>-229</td>\n",
       "    </tr>\n",
       "  </tbody>\n",
       "</table>\n",
       "</div>"
      ],
      "text/plain": [
       "             recency\n",
       "customer_id         \n",
       "1               -203\n",
       "7               -156\n",
       "10              -229"
      ]
     },
     "execution_count": 25,
     "metadata": {},
     "output_type": "execute_result"
    }
   ],
   "source": [
    "# Make Recency (Date) Features from in data\n",
    "recency_features_df = (temporal_in_df[['customer_id', \n",
    "                                       'order_date']]\n",
    "                       .groupby('customer_id')\n",
    "                       .apply(\n",
    "                           lambda x: int((x['order_date'].max() - max_date) /\n",
    "                                         pd.to_timedelta(1,\"day\"))\n",
    "                       )\n",
    "                       .to_frame()\n",
    "                       .set_axis({'recency'}, axis=1)\n",
    "                       )\n",
    "\n",
    "recency_features_df.head(3)"
   ]
  },
  {
   "cell_type": "code",
   "execution_count": 26,
   "metadata": {},
   "outputs": [
    {
     "data": {
      "text/html": [
       "<div>\n",
       "<style scoped>\n",
       "    .dataframe tbody tr th:only-of-type {\n",
       "        vertical-align: middle;\n",
       "    }\n",
       "\n",
       "    .dataframe tbody tr th {\n",
       "        vertical-align: top;\n",
       "    }\n",
       "\n",
       "    .dataframe thead th {\n",
       "        text-align: right;\n",
       "    }\n",
       "</style>\n",
       "<table border=\"1\" class=\"dataframe\">\n",
       "  <thead>\n",
       "    <tr style=\"text-align: right;\">\n",
       "      <th></th>\n",
       "      <th>frequency</th>\n",
       "    </tr>\n",
       "    <tr>\n",
       "      <th>customer_id</th>\n",
       "      <th></th>\n",
       "    </tr>\n",
       "  </thead>\n",
       "  <tbody>\n",
       "    <tr>\n",
       "      <th>1</th>\n",
       "      <td>3</td>\n",
       "    </tr>\n",
       "    <tr>\n",
       "      <th>7</th>\n",
       "      <td>1</td>\n",
       "    </tr>\n",
       "    <tr>\n",
       "      <th>10</th>\n",
       "      <td>1</td>\n",
       "    </tr>\n",
       "  </tbody>\n",
       "</table>\n",
       "</div>"
      ],
      "text/plain": [
       "             frequency\n",
       "customer_id           \n",
       "1                    3\n",
       "7                    1\n",
       "10                   1"
      ]
     },
     "execution_count": 26,
     "metadata": {},
     "output_type": "execute_result"
    }
   ],
   "source": [
    "# Make Frequency (Count) Features from in data.\n",
    "frequency_features_df = (temporal_in_df[['customer_id', \n",
    "                                       'order_date']]\n",
    "                       .groupby('customer_id')\n",
    "                       .count()\n",
    "                       .set_axis({'frequency'}, axis=1)\n",
    "                       )\n",
    "\n",
    "frequency_features_df.head(3)"
   ]
  },
  {
   "cell_type": "code",
   "execution_count": 32,
   "metadata": {},
   "outputs": [
    {
     "data": {
      "text/html": [
       "<div>\n",
       "<style scoped>\n",
       "    .dataframe tbody tr th:only-of-type {\n",
       "        vertical-align: middle;\n",
       "    }\n",
       "\n",
       "    .dataframe tbody tr th {\n",
       "        vertical-align: top;\n",
       "    }\n",
       "\n",
       "    .dataframe thead th {\n",
       "        text-align: right;\n",
       "    }\n",
       "</style>\n",
       "<table border=\"1\" class=\"dataframe\">\n",
       "  <thead>\n",
       "    <tr style=\"text-align: right;\">\n",
       "      <th></th>\n",
       "      <th>sales_value_mean</th>\n",
       "      <th>sales_value_sum</th>\n",
       "    </tr>\n",
       "    <tr>\n",
       "      <th>customer_id</th>\n",
       "      <th></th>\n",
       "      <th></th>\n",
       "    </tr>\n",
       "  </thead>\n",
       "  <tbody>\n",
       "    <tr>\n",
       "      <th>1</th>\n",
       "      <td>70389</td>\n",
       "      <td>23463.0</td>\n",
       "    </tr>\n",
       "    <tr>\n",
       "      <th>7</th>\n",
       "      <td>48935</td>\n",
       "      <td>48935.0</td>\n",
       "    </tr>\n",
       "    <tr>\n",
       "      <th>10</th>\n",
       "      <td>45626</td>\n",
       "      <td>45626.0</td>\n",
       "    </tr>\n",
       "  </tbody>\n",
       "</table>\n",
       "</div>"
      ],
      "text/plain": [
       "             sales_value_mean  sales_value_sum\n",
       "customer_id                                   \n",
       "1                       70389          23463.0\n",
       "7                       48935          48935.0\n",
       "10                      45626          45626.0"
      ]
     },
     "execution_count": 32,
     "metadata": {},
     "output_type": "execute_result"
    }
   ],
   "source": [
    "# Make Monetary Featues from in data.\n",
    "monetary_features_df = (temporal_in_df\n",
    "                       .groupby('customer_id')\n",
    "                       .aggregate(\n",
    "                           {\n",
    "                               'payment': ['sum', 'mean']   \n",
    "                           }\n",
    "                       )\n",
    "                       .set_axis({'sales_value_sum','sales_value_mean'}, axis=1)\n",
    "                       )\n",
    "\n",
    "monetary_features_df.head(3)"
   ]
  },
  {
   "cell_type": "markdown",
   "metadata": {},
   "source": [
    "### Additional Features"
   ]
  },
  {
   "cell_type": "code",
   "execution_count": 50,
   "metadata": {},
   "outputs": [
    {
     "data": {
      "text/html": [
       "<div>\n",
       "<style scoped>\n",
       "    .dataframe tbody tr th:only-of-type {\n",
       "        vertical-align: middle;\n",
       "    }\n",
       "\n",
       "    .dataframe tbody tr th {\n",
       "        vertical-align: top;\n",
       "    }\n",
       "\n",
       "    .dataframe thead th {\n",
       "        text-align: right;\n",
       "    }\n",
       "</style>\n",
       "<table border=\"1\" class=\"dataframe\">\n",
       "  <thead>\n",
       "    <tr style=\"text-align: right;\">\n",
       "      <th></th>\n",
       "      <th>transactions_last_month</th>\n",
       "    </tr>\n",
       "    <tr>\n",
       "      <th>customer_id</th>\n",
       "      <th></th>\n",
       "    </tr>\n",
       "  </thead>\n",
       "  <tbody>\n",
       "    <tr>\n",
       "      <th>28</th>\n",
       "      <td>1</td>\n",
       "    </tr>\n",
       "    <tr>\n",
       "      <th>44</th>\n",
       "      <td>1</td>\n",
       "    </tr>\n",
       "    <tr>\n",
       "      <th>50</th>\n",
       "      <td>1</td>\n",
       "    </tr>\n",
       "  </tbody>\n",
       "</table>\n",
       "</div>"
      ],
      "text/plain": [
       "             transactions_last_month\n",
       "customer_id                         \n",
       "28                                 1\n",
       "44                                 1\n",
       "50                                 1"
      ]
     },
     "execution_count": 50,
     "metadata": {},
     "output_type": "execute_result"
    }
   ],
   "source": [
    "# Make number of transactions in last month (28 Days) from in data.\n",
    "lookback_days = 28\n",
    "cutoff_lookback_days = cutoff - pd.to_timedelta(lookback_days, unit = \"d\")\n",
    "\n",
    "transactions_last_month_df = (temporal_in_df[['customer_id', \n",
    "                                              'order_date']]\n",
    "                              .drop_duplicates()\n",
    "                              .query('order_date >= @cutoff_lookback_days')\n",
    "                              .groupby('customer_id')\n",
    "                              .size()\n",
    "                              .to_frame()\n",
    "                              .set_axis({'transactions_last_month'}, axis=1)\n",
    "                              )\n",
    "\n",
    "transactions_last_month_df.head(3)"
   ]
  },
  {
   "cell_type": "code",
   "execution_count": 51,
   "metadata": {},
   "outputs": [
    {
     "data": {
      "text/html": [
       "<div>\n",
       "<style scoped>\n",
       "    .dataframe tbody tr th:only-of-type {\n",
       "        vertical-align: middle;\n",
       "    }\n",
       "\n",
       "    .dataframe tbody tr th {\n",
       "        vertical-align: top;\n",
       "    }\n",
       "\n",
       "    .dataframe thead th {\n",
       "        text-align: right;\n",
       "    }\n",
       "</style>\n",
       "<table border=\"1\" class=\"dataframe\">\n",
       "  <thead>\n",
       "    <tr style=\"text-align: right;\">\n",
       "      <th></th>\n",
       "      <th>transactions_last_2_weeks</th>\n",
       "    </tr>\n",
       "    <tr>\n",
       "      <th>customer_id</th>\n",
       "      <th></th>\n",
       "    </tr>\n",
       "  </thead>\n",
       "  <tbody>\n",
       "    <tr>\n",
       "      <th>44</th>\n",
       "      <td>1</td>\n",
       "    </tr>\n",
       "    <tr>\n",
       "      <th>50</th>\n",
       "      <td>1</td>\n",
       "    </tr>\n",
       "    <tr>\n",
       "      <th>60</th>\n",
       "      <td>1</td>\n",
       "    </tr>\n",
       "  </tbody>\n",
       "</table>\n",
       "</div>"
      ],
      "text/plain": [
       "             transactions_last_2_weeks\n",
       "customer_id                           \n",
       "44                                   1\n",
       "50                                   1\n",
       "60                                   1"
      ]
     },
     "execution_count": 51,
     "metadata": {},
     "output_type": "execute_result"
    }
   ],
   "source": [
    "# Make number of transactions in last two weeks (14 Days) from in data.\n",
    "lookback_days = 14\n",
    "cutoff_lookback_days = cutoff - pd.to_timedelta(lookback_days, unit = \"d\")\n",
    "\n",
    "transactions_last_2_weeks_df = (temporal_in_df[['customer_id', \n",
    "                                              'order_date']]\n",
    "                              .drop_duplicates()\n",
    "                              .query('order_date >= @cutoff_lookback_days')\n",
    "                              .groupby('customer_id')\n",
    "                              .size()\n",
    "                              .to_frame()\n",
    "                              .set_axis({'transactions_last_2_weeks'}, axis=1)\n",
    "                              )\n",
    "\n",
    "transactions_last_2_weeks_df.head(3)"
   ]
  },
  {
   "cell_type": "code",
   "execution_count": 14,
   "metadata": {},
   "outputs": [
    {
     "data": {
      "text/plain": [
       "Index(['order_id', 'customer_id', 'payment', 'order_date', 'delivery_date'], dtype='object')"
      ]
     },
     "execution_count": 14,
     "metadata": {},
     "output_type": "execute_result"
    }
   ],
   "source": [
    "df.columns"
   ]
  },
  {
   "cell_type": "code",
   "execution_count": 52,
   "metadata": {},
   "outputs": [
    {
     "data": {
      "text/html": [
       "<div>\n",
       "<style scoped>\n",
       "    .dataframe tbody tr th:only-of-type {\n",
       "        vertical-align: middle;\n",
       "    }\n",
       "\n",
       "    .dataframe tbody tr th {\n",
       "        vertical-align: top;\n",
       "    }\n",
       "\n",
       "    .dataframe thead th {\n",
       "        text-align: right;\n",
       "    }\n",
       "</style>\n",
       "<table border=\"1\" class=\"dataframe\">\n",
       "  <thead>\n",
       "    <tr style=\"text-align: right;\">\n",
       "      <th></th>\n",
       "      <th>spend_last_2_weeks</th>\n",
       "    </tr>\n",
       "    <tr>\n",
       "      <th>customer_id</th>\n",
       "      <th></th>\n",
       "    </tr>\n",
       "  </thead>\n",
       "  <tbody>\n",
       "    <tr>\n",
       "      <th>44</th>\n",
       "      <td>59055</td>\n",
       "    </tr>\n",
       "    <tr>\n",
       "      <th>50</th>\n",
       "      <td>51943</td>\n",
       "    </tr>\n",
       "    <tr>\n",
       "      <th>60</th>\n",
       "      <td>28334</td>\n",
       "    </tr>\n",
       "  </tbody>\n",
       "</table>\n",
       "</div>"
      ],
      "text/plain": [
       "             spend_last_2_weeks\n",
       "customer_id                    \n",
       "44                        59055\n",
       "50                        51943\n",
       "60                        28334"
      ]
     },
     "execution_count": 52,
     "metadata": {},
     "output_type": "execute_result"
    }
   ],
   "source": [
    "# Make Spend in the last 2 weeks\n",
    "lookback_days = 14\n",
    "cutoff_lookback_days = cutoff - pd.to_timedelta(lookback_days, unit = \"d\")\n",
    "\n",
    "spend_last_2_weeks_df = (temporal_in_df[['customer_id',\n",
    "                                         'order_date',\n",
    "                                         'payment']]\n",
    "                              .drop_duplicates()\n",
    "                              .query('order_date >= @cutoff_lookback_days')\n",
    "                              .groupby('customer_id')\n",
    "                              .sum()\n",
    "                              .set_axis({'spend_last_2_weeks'}, axis=1)\n",
    "                              )\n",
    "\n",
    "spend_last_2_weeks_df.head(3)"
   ]
  },
  {
   "cell_type": "markdown",
   "metadata": {},
   "source": [
    "### Combine Features"
   ]
  },
  {
   "cell_type": "code",
   "execution_count": 53,
   "metadata": {},
   "outputs": [
    {
     "data": {
      "text/html": [
       "<div>\n",
       "<style scoped>\n",
       "    .dataframe tbody tr th:only-of-type {\n",
       "        vertical-align: middle;\n",
       "    }\n",
       "\n",
       "    .dataframe tbody tr th {\n",
       "        vertical-align: top;\n",
       "    }\n",
       "\n",
       "    .dataframe thead th {\n",
       "        text-align: right;\n",
       "    }\n",
       "</style>\n",
       "<table border=\"1\" class=\"dataframe\">\n",
       "  <thead>\n",
       "    <tr style=\"text-align: right;\">\n",
       "      <th></th>\n",
       "      <th>recency</th>\n",
       "      <th>frequency</th>\n",
       "      <th>sales_value_mean</th>\n",
       "      <th>sales_value_sum</th>\n",
       "      <th>transactions_last_month</th>\n",
       "      <th>transactions_last_2_weeks</th>\n",
       "      <th>spend_last_2_weeks</th>\n",
       "      <th>sales_90_value</th>\n",
       "      <th>sales_90_flag</th>\n",
       "    </tr>\n",
       "    <tr>\n",
       "      <th>customer_id</th>\n",
       "      <th></th>\n",
       "      <th></th>\n",
       "      <th></th>\n",
       "      <th></th>\n",
       "      <th></th>\n",
       "      <th></th>\n",
       "      <th></th>\n",
       "      <th></th>\n",
       "      <th></th>\n",
       "    </tr>\n",
       "  </thead>\n",
       "  <tbody>\n",
       "    <tr>\n",
       "      <th>1</th>\n",
       "      <td>-203</td>\n",
       "      <td>3</td>\n",
       "      <td>70389</td>\n",
       "      <td>23463.0</td>\n",
       "      <td>0.0</td>\n",
       "      <td>0.0</td>\n",
       "      <td>0.0</td>\n",
       "      <td>0.0</td>\n",
       "      <td>0.0</td>\n",
       "    </tr>\n",
       "    <tr>\n",
       "      <th>7</th>\n",
       "      <td>-156</td>\n",
       "      <td>1</td>\n",
       "      <td>48935</td>\n",
       "      <td>48935.0</td>\n",
       "      <td>0.0</td>\n",
       "      <td>0.0</td>\n",
       "      <td>0.0</td>\n",
       "      <td>0.0</td>\n",
       "      <td>0.0</td>\n",
       "    </tr>\n",
       "    <tr>\n",
       "      <th>10</th>\n",
       "      <td>-229</td>\n",
       "      <td>1</td>\n",
       "      <td>45626</td>\n",
       "      <td>45626.0</td>\n",
       "      <td>0.0</td>\n",
       "      <td>0.0</td>\n",
       "      <td>0.0</td>\n",
       "      <td>0.0</td>\n",
       "      <td>0.0</td>\n",
       "    </tr>\n",
       "  </tbody>\n",
       "</table>\n",
       "</div>"
      ],
      "text/plain": [
       "             recency  frequency  sales_value_mean  sales_value_sum  \\\n",
       "customer_id                                                          \n",
       "1               -203          3             70389          23463.0   \n",
       "7               -156          1             48935          48935.0   \n",
       "10              -229          1             45626          45626.0   \n",
       "\n",
       "             transactions_last_month  transactions_last_2_weeks  \\\n",
       "customer_id                                                       \n",
       "1                                0.0                        0.0   \n",
       "7                                0.0                        0.0   \n",
       "10                               0.0                        0.0   \n",
       "\n",
       "             spend_last_2_weeks  sales_90_value  sales_90_flag  \n",
       "customer_id                                                     \n",
       "1                           0.0             0.0            0.0  \n",
       "7                           0.0             0.0            0.0  \n",
       "10                          0.0             0.0            0.0  "
      ]
     },
     "execution_count": 53,
     "metadata": {},
     "output_type": "execute_result"
    }
   ],
   "source": [
    "# Combine Features\n",
    "features_df = (pd.concat(\n",
    "    [recency_features_df,\n",
    "     frequency_features_df,\n",
    "     monetary_features_df,\n",
    "     transactions_last_month_df,\n",
    "     transactions_last_2_weeks_df,\n",
    "     spend_last_2_weeks_df], axis=1)\n",
    "               .merge(targets_df,\n",
    "                      left_index=True,\n",
    "                      right_index=True,\n",
    "                      how=\"left\")\n",
    "               .fillna(0)\n",
    ")\n",
    "\n",
    "features_df.head(3)"
   ]
  },
  {
   "cell_type": "markdown",
   "metadata": {},
   "source": [
    "# Regression (Spend in next 90 days)"
   ]
  },
  {
   "cell_type": "code",
   "execution_count": 54,
   "metadata": {},
   "outputs": [
    {
     "data": {
      "text/html": [
       "<style type=\"text/css\">\n",
       "#T_a53ca_row8_col1, #T_a53ca_row12_col1 {\n",
       "  background-color: lightgreen;\n",
       "}\n",
       "</style>\n",
       "<table id=\"T_a53ca\">\n",
       "  <thead>\n",
       "    <tr>\n",
       "      <th class=\"blank level0\" >&nbsp;</th>\n",
       "      <th id=\"T_a53ca_level0_col0\" class=\"col_heading level0 col0\" >Description</th>\n",
       "      <th id=\"T_a53ca_level0_col1\" class=\"col_heading level0 col1\" >Value</th>\n",
       "    </tr>\n",
       "  </thead>\n",
       "  <tbody>\n",
       "    <tr>\n",
       "      <th id=\"T_a53ca_level0_row0\" class=\"row_heading level0 row0\" >0</th>\n",
       "      <td id=\"T_a53ca_row0_col0\" class=\"data row0 col0\" >Session id</td>\n",
       "      <td id=\"T_a53ca_row0_col1\" class=\"data row0 col1\" >123</td>\n",
       "    </tr>\n",
       "    <tr>\n",
       "      <th id=\"T_a53ca_level0_row1\" class=\"row_heading level0 row1\" >1</th>\n",
       "      <td id=\"T_a53ca_row1_col0\" class=\"data row1 col0\" >Target</td>\n",
       "      <td id=\"T_a53ca_row1_col1\" class=\"data row1 col1\" >sales_90_value</td>\n",
       "    </tr>\n",
       "    <tr>\n",
       "      <th id=\"T_a53ca_level0_row2\" class=\"row_heading level0 row2\" >2</th>\n",
       "      <td id=\"T_a53ca_row2_col0\" class=\"data row2 col0\" >Target type</td>\n",
       "      <td id=\"T_a53ca_row2_col1\" class=\"data row2 col1\" >Regression</td>\n",
       "    </tr>\n",
       "    <tr>\n",
       "      <th id=\"T_a53ca_level0_row3\" class=\"row_heading level0 row3\" >3</th>\n",
       "      <td id=\"T_a53ca_row3_col0\" class=\"data row3 col0\" >Original data shape</td>\n",
       "      <td id=\"T_a53ca_row3_col1\" class=\"data row3 col1\" >(488, 8)</td>\n",
       "    </tr>\n",
       "    <tr>\n",
       "      <th id=\"T_a53ca_level0_row4\" class=\"row_heading level0 row4\" >4</th>\n",
       "      <td id=\"T_a53ca_row4_col0\" class=\"data row4 col0\" >Transformed data shape</td>\n",
       "      <td id=\"T_a53ca_row4_col1\" class=\"data row4 col1\" >(488, 8)</td>\n",
       "    </tr>\n",
       "    <tr>\n",
       "      <th id=\"T_a53ca_level0_row5\" class=\"row_heading level0 row5\" >5</th>\n",
       "      <td id=\"T_a53ca_row5_col0\" class=\"data row5 col0\" >Transformed train set shape</td>\n",
       "      <td id=\"T_a53ca_row5_col1\" class=\"data row5 col1\" >(390, 8)</td>\n",
       "    </tr>\n",
       "    <tr>\n",
       "      <th id=\"T_a53ca_level0_row6\" class=\"row_heading level0 row6\" >6</th>\n",
       "      <td id=\"T_a53ca_row6_col0\" class=\"data row6 col0\" >Transformed test set shape</td>\n",
       "      <td id=\"T_a53ca_row6_col1\" class=\"data row6 col1\" >(98, 8)</td>\n",
       "    </tr>\n",
       "    <tr>\n",
       "      <th id=\"T_a53ca_level0_row7\" class=\"row_heading level0 row7\" >7</th>\n",
       "      <td id=\"T_a53ca_row7_col0\" class=\"data row7 col0\" >Numeric features</td>\n",
       "      <td id=\"T_a53ca_row7_col1\" class=\"data row7 col1\" >7</td>\n",
       "    </tr>\n",
       "    <tr>\n",
       "      <th id=\"T_a53ca_level0_row8\" class=\"row_heading level0 row8\" >8</th>\n",
       "      <td id=\"T_a53ca_row8_col0\" class=\"data row8 col0\" >Preprocess</td>\n",
       "      <td id=\"T_a53ca_row8_col1\" class=\"data row8 col1\" >True</td>\n",
       "    </tr>\n",
       "    <tr>\n",
       "      <th id=\"T_a53ca_level0_row9\" class=\"row_heading level0 row9\" >9</th>\n",
       "      <td id=\"T_a53ca_row9_col0\" class=\"data row9 col0\" >Imputation type</td>\n",
       "      <td id=\"T_a53ca_row9_col1\" class=\"data row9 col1\" >simple</td>\n",
       "    </tr>\n",
       "    <tr>\n",
       "      <th id=\"T_a53ca_level0_row10\" class=\"row_heading level0 row10\" >10</th>\n",
       "      <td id=\"T_a53ca_row10_col0\" class=\"data row10 col0\" >Numeric imputation</td>\n",
       "      <td id=\"T_a53ca_row10_col1\" class=\"data row10 col1\" >mean</td>\n",
       "    </tr>\n",
       "    <tr>\n",
       "      <th id=\"T_a53ca_level0_row11\" class=\"row_heading level0 row11\" >11</th>\n",
       "      <td id=\"T_a53ca_row11_col0\" class=\"data row11 col0\" >Categorical imputation</td>\n",
       "      <td id=\"T_a53ca_row11_col1\" class=\"data row11 col1\" >mode</td>\n",
       "    </tr>\n",
       "    <tr>\n",
       "      <th id=\"T_a53ca_level0_row12\" class=\"row_heading level0 row12\" >12</th>\n",
       "      <td id=\"T_a53ca_row12_col0\" class=\"data row12 col0\" >Normalize</td>\n",
       "      <td id=\"T_a53ca_row12_col1\" class=\"data row12 col1\" >True</td>\n",
       "    </tr>\n",
       "    <tr>\n",
       "      <th id=\"T_a53ca_level0_row13\" class=\"row_heading level0 row13\" >13</th>\n",
       "      <td id=\"T_a53ca_row13_col0\" class=\"data row13 col0\" >Normalize method</td>\n",
       "      <td id=\"T_a53ca_row13_col1\" class=\"data row13 col1\" >zscore</td>\n",
       "    </tr>\n",
       "    <tr>\n",
       "      <th id=\"T_a53ca_level0_row14\" class=\"row_heading level0 row14\" >14</th>\n",
       "      <td id=\"T_a53ca_row14_col0\" class=\"data row14 col0\" >Fold Generator</td>\n",
       "      <td id=\"T_a53ca_row14_col1\" class=\"data row14 col1\" >KFold</td>\n",
       "    </tr>\n",
       "    <tr>\n",
       "      <th id=\"T_a53ca_level0_row15\" class=\"row_heading level0 row15\" >15</th>\n",
       "      <td id=\"T_a53ca_row15_col0\" class=\"data row15 col0\" >Fold Number</td>\n",
       "      <td id=\"T_a53ca_row15_col1\" class=\"data row15 col1\" >10</td>\n",
       "    </tr>\n",
       "    <tr>\n",
       "      <th id=\"T_a53ca_level0_row16\" class=\"row_heading level0 row16\" >16</th>\n",
       "      <td id=\"T_a53ca_row16_col0\" class=\"data row16 col0\" >CPU Jobs</td>\n",
       "      <td id=\"T_a53ca_row16_col1\" class=\"data row16 col1\" >-1</td>\n",
       "    </tr>\n",
       "    <tr>\n",
       "      <th id=\"T_a53ca_level0_row17\" class=\"row_heading level0 row17\" >17</th>\n",
       "      <td id=\"T_a53ca_row17_col0\" class=\"data row17 col0\" >Use GPU</td>\n",
       "      <td id=\"T_a53ca_row17_col1\" class=\"data row17 col1\" >False</td>\n",
       "    </tr>\n",
       "    <tr>\n",
       "      <th id=\"T_a53ca_level0_row18\" class=\"row_heading level0 row18\" >18</th>\n",
       "      <td id=\"T_a53ca_row18_col0\" class=\"data row18 col0\" >Log Experiment</td>\n",
       "      <td id=\"T_a53ca_row18_col1\" class=\"data row18 col1\" >False</td>\n",
       "    </tr>\n",
       "    <tr>\n",
       "      <th id=\"T_a53ca_level0_row19\" class=\"row_heading level0 row19\" >19</th>\n",
       "      <td id=\"T_a53ca_row19_col0\" class=\"data row19 col0\" >Experiment Name</td>\n",
       "      <td id=\"T_a53ca_row19_col1\" class=\"data row19 col1\" >reg-default-name</td>\n",
       "    </tr>\n",
       "    <tr>\n",
       "      <th id=\"T_a53ca_level0_row20\" class=\"row_heading level0 row20\" >20</th>\n",
       "      <td id=\"T_a53ca_row20_col0\" class=\"data row20 col0\" >USI</td>\n",
       "      <td id=\"T_a53ca_row20_col1\" class=\"data row20 col1\" >12c0</td>\n",
       "    </tr>\n",
       "  </tbody>\n",
       "</table>\n"
      ],
      "text/plain": [
       "<pandas.io.formats.style.Styler at 0x2cf3f92f310>"
      ]
     },
     "metadata": {},
     "output_type": "display_data"
    },
    {
     "data": {
      "text/html": [],
      "text/plain": [
       "<IPython.core.display.HTML object>"
      ]
     },
     "metadata": {},
     "output_type": "display_data"
    },
    {
     "data": {
      "text/html": [
       "<style type=\"text/css\">\n",
       "#T_e803a_row10_col0, #T_e803a_row10_col1, #T_e803a_row10_col2, #T_e803a_row10_col3, #T_e803a_row10_col4, #T_e803a_row10_col5 {\n",
       "  background: yellow;\n",
       "}\n",
       "</style>\n",
       "<table id=\"T_e803a\">\n",
       "  <thead>\n",
       "    <tr>\n",
       "      <th class=\"blank level0\" >&nbsp;</th>\n",
       "      <th id=\"T_e803a_level0_col0\" class=\"col_heading level0 col0\" >MAE</th>\n",
       "      <th id=\"T_e803a_level0_col1\" class=\"col_heading level0 col1\" >MSE</th>\n",
       "      <th id=\"T_e803a_level0_col2\" class=\"col_heading level0 col2\" >RMSE</th>\n",
       "      <th id=\"T_e803a_level0_col3\" class=\"col_heading level0 col3\" >R2</th>\n",
       "      <th id=\"T_e803a_level0_col4\" class=\"col_heading level0 col4\" >RMSLE</th>\n",
       "      <th id=\"T_e803a_level0_col5\" class=\"col_heading level0 col5\" >MAPE</th>\n",
       "    </tr>\n",
       "    <tr>\n",
       "      <th class=\"index_name level0\" >Fold</th>\n",
       "      <th class=\"blank col0\" >&nbsp;</th>\n",
       "      <th class=\"blank col1\" >&nbsp;</th>\n",
       "      <th class=\"blank col2\" >&nbsp;</th>\n",
       "      <th class=\"blank col3\" >&nbsp;</th>\n",
       "      <th class=\"blank col4\" >&nbsp;</th>\n",
       "      <th class=\"blank col5\" >&nbsp;</th>\n",
       "    </tr>\n",
       "  </thead>\n",
       "  <tbody>\n",
       "    <tr>\n",
       "      <th id=\"T_e803a_level0_row0\" class=\"row_heading level0 row0\" >0</th>\n",
       "      <td id=\"T_e803a_row0_col0\" class=\"data row0 col0\" >18521.5781</td>\n",
       "      <td id=\"T_e803a_row0_col1\" class=\"data row0 col1\" >751156416.0000</td>\n",
       "      <td id=\"T_e803a_row0_col2\" class=\"data row0 col2\" >27407.2324</td>\n",
       "      <td id=\"T_e803a_row0_col3\" class=\"data row0 col3\" >-1.5574</td>\n",
       "      <td id=\"T_e803a_row0_col4\" class=\"data row0 col4\" >7.5962</td>\n",
       "      <td id=\"T_e803a_row0_col5\" class=\"data row0 col5\" >0.7259</td>\n",
       "    </tr>\n",
       "    <tr>\n",
       "      <th id=\"T_e803a_level0_row1\" class=\"row_heading level0 row1\" >1</th>\n",
       "      <td id=\"T_e803a_row1_col0\" class=\"data row1 col0\" >17470.4160</td>\n",
       "      <td id=\"T_e803a_row1_col1\" class=\"data row1 col1\" >544537024.0000</td>\n",
       "      <td id=\"T_e803a_row1_col2\" class=\"data row1 col2\" >23335.3164</td>\n",
       "      <td id=\"T_e803a_row1_col3\" class=\"data row1 col3\" >-0.3011</td>\n",
       "      <td id=\"T_e803a_row1_col4\" class=\"data row1 col4\" >7.6573</td>\n",
       "      <td id=\"T_e803a_row1_col5\" class=\"data row1 col5\" >0.6606</td>\n",
       "    </tr>\n",
       "    <tr>\n",
       "      <th id=\"T_e803a_level0_row2\" class=\"row_heading level0 row2\" >2</th>\n",
       "      <td id=\"T_e803a_row2_col0\" class=\"data row2 col0\" >17283.5332</td>\n",
       "      <td id=\"T_e803a_row2_col1\" class=\"data row2 col1\" >630605504.0000</td>\n",
       "      <td id=\"T_e803a_row2_col2\" class=\"data row2 col2\" >25111.8594</td>\n",
       "      <td id=\"T_e803a_row2_col3\" class=\"data row2 col3\" >-0.6215</td>\n",
       "      <td id=\"T_e803a_row2_col4\" class=\"data row2 col4\" >7.7273</td>\n",
       "      <td id=\"T_e803a_row2_col5\" class=\"data row2 col5\" >0.7782</td>\n",
       "    </tr>\n",
       "    <tr>\n",
       "      <th id=\"T_e803a_level0_row3\" class=\"row_heading level0 row3\" >3</th>\n",
       "      <td id=\"T_e803a_row3_col0\" class=\"data row3 col0\" >21815.0176</td>\n",
       "      <td id=\"T_e803a_row3_col1\" class=\"data row3 col1\" >867371840.0000</td>\n",
       "      <td id=\"T_e803a_row3_col2\" class=\"data row3 col2\" >29451.1777</td>\n",
       "      <td id=\"T_e803a_row3_col3\" class=\"data row3 col3\" >-0.5447</td>\n",
       "      <td id=\"T_e803a_row3_col4\" class=\"data row3 col4\" >7.7800</td>\n",
       "      <td id=\"T_e803a_row3_col5\" class=\"data row3 col5\" >1.0204</td>\n",
       "    </tr>\n",
       "    <tr>\n",
       "      <th id=\"T_e803a_level0_row4\" class=\"row_heading level0 row4\" >4</th>\n",
       "      <td id=\"T_e803a_row4_col0\" class=\"data row4 col0\" >20720.9551</td>\n",
       "      <td id=\"T_e803a_row4_col1\" class=\"data row4 col1\" >837738944.0000</td>\n",
       "      <td id=\"T_e803a_row4_col2\" class=\"data row4 col2\" >28943.7207</td>\n",
       "      <td id=\"T_e803a_row4_col3\" class=\"data row4 col3\" >-1.9068</td>\n",
       "      <td id=\"T_e803a_row4_col4\" class=\"data row4 col4\" >8.2814</td>\n",
       "      <td id=\"T_e803a_row4_col5\" class=\"data row4 col5\" >1.1066</td>\n",
       "    </tr>\n",
       "    <tr>\n",
       "      <th id=\"T_e803a_level0_row5\" class=\"row_heading level0 row5\" >5</th>\n",
       "      <td id=\"T_e803a_row5_col0\" class=\"data row5 col0\" >12691.0732</td>\n",
       "      <td id=\"T_e803a_row5_col1\" class=\"data row5 col1\" >333366272.0000</td>\n",
       "      <td id=\"T_e803a_row5_col2\" class=\"data row5 col2\" >18258.3203</td>\n",
       "      <td id=\"T_e803a_row5_col3\" class=\"data row5 col3\" >-0.2709</td>\n",
       "      <td id=\"T_e803a_row5_col4\" class=\"data row5 col4\" >7.5087</td>\n",
       "      <td id=\"T_e803a_row5_col5\" class=\"data row5 col5\" >0.7177</td>\n",
       "    </tr>\n",
       "    <tr>\n",
       "      <th id=\"T_e803a_level0_row6\" class=\"row_heading level0 row6\" >6</th>\n",
       "      <td id=\"T_e803a_row6_col0\" class=\"data row6 col0\" >22136.9473</td>\n",
       "      <td id=\"T_e803a_row6_col1\" class=\"data row6 col1\" >1113515392.0000</td>\n",
       "      <td id=\"T_e803a_row6_col2\" class=\"data row6 col2\" >33369.3789</td>\n",
       "      <td id=\"T_e803a_row6_col3\" class=\"data row6 col3\" >-0.3235</td>\n",
       "      <td id=\"T_e803a_row6_col4\" class=\"data row6 col4\" >7.3705</td>\n",
       "      <td id=\"T_e803a_row6_col5\" class=\"data row6 col5\" >0.7632</td>\n",
       "    </tr>\n",
       "    <tr>\n",
       "      <th id=\"T_e803a_level0_row7\" class=\"row_heading level0 row7\" >7</th>\n",
       "      <td id=\"T_e803a_row7_col0\" class=\"data row7 col0\" >21870.5430</td>\n",
       "      <td id=\"T_e803a_row7_col1\" class=\"data row7 col1\" >1050755520.0000</td>\n",
       "      <td id=\"T_e803a_row7_col2\" class=\"data row7 col2\" >32415.3594</td>\n",
       "      <td id=\"T_e803a_row7_col3\" class=\"data row7 col3\" >-0.3660</td>\n",
       "      <td id=\"T_e803a_row7_col4\" class=\"data row7 col4\" >6.9227</td>\n",
       "      <td id=\"T_e803a_row7_col5\" class=\"data row7 col5\" >0.7977</td>\n",
       "    </tr>\n",
       "    <tr>\n",
       "      <th id=\"T_e803a_level0_row8\" class=\"row_heading level0 row8\" >8</th>\n",
       "      <td id=\"T_e803a_row8_col0\" class=\"data row8 col0\" >19736.7051</td>\n",
       "      <td id=\"T_e803a_row8_col1\" class=\"data row8 col1\" >847784640.0000</td>\n",
       "      <td id=\"T_e803a_row8_col2\" class=\"data row8 col2\" >29116.7422</td>\n",
       "      <td id=\"T_e803a_row8_col3\" class=\"data row8 col3\" >-0.6439</td>\n",
       "      <td id=\"T_e803a_row8_col4\" class=\"data row8 col4\" >7.5129</td>\n",
       "      <td id=\"T_e803a_row8_col5\" class=\"data row8 col5\" >0.8559</td>\n",
       "    </tr>\n",
       "    <tr>\n",
       "      <th id=\"T_e803a_level0_row9\" class=\"row_heading level0 row9\" >9</th>\n",
       "      <td id=\"T_e803a_row9_col0\" class=\"data row9 col0\" >21282.6523</td>\n",
       "      <td id=\"T_e803a_row9_col1\" class=\"data row9 col1\" >893886592.0000</td>\n",
       "      <td id=\"T_e803a_row9_col2\" class=\"data row9 col2\" >29897.9355</td>\n",
       "      <td id=\"T_e803a_row9_col3\" class=\"data row9 col3\" >-0.6214</td>\n",
       "      <td id=\"T_e803a_row9_col4\" class=\"data row9 col4\" >7.5301</td>\n",
       "      <td id=\"T_e803a_row9_col5\" class=\"data row9 col5\" >0.8661</td>\n",
       "    </tr>\n",
       "    <tr>\n",
       "      <th id=\"T_e803a_level0_row10\" class=\"row_heading level0 row10\" >Mean</th>\n",
       "      <td id=\"T_e803a_row10_col0\" class=\"data row10 col0\" >19352.9421</td>\n",
       "      <td id=\"T_e803a_row10_col1\" class=\"data row10 col1\" >787071814.4000</td>\n",
       "      <td id=\"T_e803a_row10_col2\" class=\"data row10 col2\" >27730.7043</td>\n",
       "      <td id=\"T_e803a_row10_col3\" class=\"data row10 col3\" >-0.7157</td>\n",
       "      <td id=\"T_e803a_row10_col4\" class=\"data row10 col4\" >7.5887</td>\n",
       "      <td id=\"T_e803a_row10_col5\" class=\"data row10 col5\" >0.8292</td>\n",
       "    </tr>\n",
       "    <tr>\n",
       "      <th id=\"T_e803a_level0_row11\" class=\"row_heading level0 row11\" >Std</th>\n",
       "      <td id=\"T_e803a_row11_col0\" class=\"data row11 col0\" >2806.9797</td>\n",
       "      <td id=\"T_e803a_row11_col1\" class=\"data row11 col1\" >221505906.8932</td>\n",
       "      <td id=\"T_e803a_row11_col2\" class=\"data row11 col2\" >4252.0413</td>\n",
       "      <td id=\"T_e803a_row11_col3\" class=\"data row11 col3\" >0.5315</td>\n",
       "      <td id=\"T_e803a_row11_col4\" class=\"data row11 col4\" >0.3236</td>\n",
       "      <td id=\"T_e803a_row11_col5\" class=\"data row11 col5\" >0.1323</td>\n",
       "    </tr>\n",
       "  </tbody>\n",
       "</table>\n"
      ],
      "text/plain": [
       "<pandas.io.formats.style.Styler at 0x2cf4022c690>"
      ]
     },
     "metadata": {},
     "output_type": "display_data"
    },
    {
     "data": {
      "text/html": [],
      "text/plain": [
       "<IPython.core.display.HTML object>"
      ]
     },
     "metadata": {},
     "output_type": "display_data"
    },
    {
     "data": {
      "text/html": [
       "<style type=\"text/css\">\n",
       "</style>\n",
       "<table id=\"T_94ae1\">\n",
       "  <thead>\n",
       "    <tr>\n",
       "      <th class=\"blank level0\" >&nbsp;</th>\n",
       "      <th id=\"T_94ae1_level0_col0\" class=\"col_heading level0 col0\" >Model</th>\n",
       "      <th id=\"T_94ae1_level0_col1\" class=\"col_heading level0 col1\" >MAE</th>\n",
       "      <th id=\"T_94ae1_level0_col2\" class=\"col_heading level0 col2\" >MSE</th>\n",
       "      <th id=\"T_94ae1_level0_col3\" class=\"col_heading level0 col3\" >RMSE</th>\n",
       "      <th id=\"T_94ae1_level0_col4\" class=\"col_heading level0 col4\" >R2</th>\n",
       "      <th id=\"T_94ae1_level0_col5\" class=\"col_heading level0 col5\" >RMSLE</th>\n",
       "      <th id=\"T_94ae1_level0_col6\" class=\"col_heading level0 col6\" >MAPE</th>\n",
       "    </tr>\n",
       "  </thead>\n",
       "  <tbody>\n",
       "    <tr>\n",
       "      <th id=\"T_94ae1_level0_row0\" class=\"row_heading level0 row0\" >0</th>\n",
       "      <td id=\"T_94ae1_row0_col0\" class=\"data row0 col0\" >Extreme Gradient Boosting</td>\n",
       "      <td id=\"T_94ae1_row0_col1\" class=\"data row0 col1\" >4512.4653</td>\n",
       "      <td id=\"T_94ae1_row0_col2\" class=\"data row0 col2\" >117375944.0000</td>\n",
       "      <td id=\"T_94ae1_row0_col3\" class=\"data row0 col3\" >10834.0176</td>\n",
       "      <td id=\"T_94ae1_row0_col4\" class=\"data row0 col4\" >0.7490</td>\n",
       "      <td id=\"T_94ae1_row0_col5\" class=\"data row0 col5\" >5.9619</td>\n",
       "      <td id=\"T_94ae1_row0_col6\" class=\"data row0 col6\" >0.1970</td>\n",
       "    </tr>\n",
       "  </tbody>\n",
       "</table>\n"
      ],
      "text/plain": [
       "<pandas.io.formats.style.Styler at 0x2cf3f939190>"
      ]
     },
     "metadata": {},
     "output_type": "display_data"
    }
   ],
   "source": [
    "reg_setup = reg.setup(\n",
    "    data = features_df.drop('sales_90_flag', axis = 1),\n",
    "    target='sales_90_value',\n",
    "    train_size=0.8,\n",
    "    normalize=True,\n",
    "    session_id=123,\n",
    "    verbose=True,\n",
    "    log_experiment=False\n",
    ")\n",
    "\n",
    "xgb_reg_model = reg.create_model('xgboost')\n",
    "reg_predictions_df = (reg\n",
    "                      .predict_model(xgb_reg_model, \n",
    "                                     data=features_df)\n",
    "                      .sort_values('prediction_label', ascending=False))\n"
   ]
  },
  {
   "cell_type": "markdown",
   "metadata": {},
   "source": [
    "# Classification (Spend Probability in next 90 days)"
   ]
  },
  {
   "cell_type": "code",
   "execution_count": 55,
   "metadata": {},
   "outputs": [
    {
     "data": {
      "text/html": [
       "<style type=\"text/css\">\n",
       "#T_6156b_row8_col1 {\n",
       "  background-color: lightgreen;\n",
       "}\n",
       "</style>\n",
       "<table id=\"T_6156b\">\n",
       "  <thead>\n",
       "    <tr>\n",
       "      <th class=\"blank level0\" >&nbsp;</th>\n",
       "      <th id=\"T_6156b_level0_col0\" class=\"col_heading level0 col0\" >Description</th>\n",
       "      <th id=\"T_6156b_level0_col1\" class=\"col_heading level0 col1\" >Value</th>\n",
       "    </tr>\n",
       "  </thead>\n",
       "  <tbody>\n",
       "    <tr>\n",
       "      <th id=\"T_6156b_level0_row0\" class=\"row_heading level0 row0\" >0</th>\n",
       "      <td id=\"T_6156b_row0_col0\" class=\"data row0 col0\" >Session id</td>\n",
       "      <td id=\"T_6156b_row0_col1\" class=\"data row0 col1\" >123</td>\n",
       "    </tr>\n",
       "    <tr>\n",
       "      <th id=\"T_6156b_level0_row1\" class=\"row_heading level0 row1\" >1</th>\n",
       "      <td id=\"T_6156b_row1_col0\" class=\"data row1 col0\" >Target</td>\n",
       "      <td id=\"T_6156b_row1_col1\" class=\"data row1 col1\" >sales_90_flag</td>\n",
       "    </tr>\n",
       "    <tr>\n",
       "      <th id=\"T_6156b_level0_row2\" class=\"row_heading level0 row2\" >2</th>\n",
       "      <td id=\"T_6156b_row2_col0\" class=\"data row2 col0\" >Target type</td>\n",
       "      <td id=\"T_6156b_row2_col1\" class=\"data row2 col1\" >Binary</td>\n",
       "    </tr>\n",
       "    <tr>\n",
       "      <th id=\"T_6156b_level0_row3\" class=\"row_heading level0 row3\" >3</th>\n",
       "      <td id=\"T_6156b_row3_col0\" class=\"data row3 col0\" >Original data shape</td>\n",
       "      <td id=\"T_6156b_row3_col1\" class=\"data row3 col1\" >(488, 8)</td>\n",
       "    </tr>\n",
       "    <tr>\n",
       "      <th id=\"T_6156b_level0_row4\" class=\"row_heading level0 row4\" >4</th>\n",
       "      <td id=\"T_6156b_row4_col0\" class=\"data row4 col0\" >Transformed data shape</td>\n",
       "      <td id=\"T_6156b_row4_col1\" class=\"data row4 col1\" >(488, 8)</td>\n",
       "    </tr>\n",
       "    <tr>\n",
       "      <th id=\"T_6156b_level0_row5\" class=\"row_heading level0 row5\" >5</th>\n",
       "      <td id=\"T_6156b_row5_col0\" class=\"data row5 col0\" >Transformed train set shape</td>\n",
       "      <td id=\"T_6156b_row5_col1\" class=\"data row5 col1\" >(390, 8)</td>\n",
       "    </tr>\n",
       "    <tr>\n",
       "      <th id=\"T_6156b_level0_row6\" class=\"row_heading level0 row6\" >6</th>\n",
       "      <td id=\"T_6156b_row6_col0\" class=\"data row6 col0\" >Transformed test set shape</td>\n",
       "      <td id=\"T_6156b_row6_col1\" class=\"data row6 col1\" >(98, 8)</td>\n",
       "    </tr>\n",
       "    <tr>\n",
       "      <th id=\"T_6156b_level0_row7\" class=\"row_heading level0 row7\" >7</th>\n",
       "      <td id=\"T_6156b_row7_col0\" class=\"data row7 col0\" >Numeric features</td>\n",
       "      <td id=\"T_6156b_row7_col1\" class=\"data row7 col1\" >7</td>\n",
       "    </tr>\n",
       "    <tr>\n",
       "      <th id=\"T_6156b_level0_row8\" class=\"row_heading level0 row8\" >8</th>\n",
       "      <td id=\"T_6156b_row8_col0\" class=\"data row8 col0\" >Preprocess</td>\n",
       "      <td id=\"T_6156b_row8_col1\" class=\"data row8 col1\" >True</td>\n",
       "    </tr>\n",
       "    <tr>\n",
       "      <th id=\"T_6156b_level0_row9\" class=\"row_heading level0 row9\" >9</th>\n",
       "      <td id=\"T_6156b_row9_col0\" class=\"data row9 col0\" >Imputation type</td>\n",
       "      <td id=\"T_6156b_row9_col1\" class=\"data row9 col1\" >simple</td>\n",
       "    </tr>\n",
       "    <tr>\n",
       "      <th id=\"T_6156b_level0_row10\" class=\"row_heading level0 row10\" >10</th>\n",
       "      <td id=\"T_6156b_row10_col0\" class=\"data row10 col0\" >Numeric imputation</td>\n",
       "      <td id=\"T_6156b_row10_col1\" class=\"data row10 col1\" >mean</td>\n",
       "    </tr>\n",
       "    <tr>\n",
       "      <th id=\"T_6156b_level0_row11\" class=\"row_heading level0 row11\" >11</th>\n",
       "      <td id=\"T_6156b_row11_col0\" class=\"data row11 col0\" >Categorical imputation</td>\n",
       "      <td id=\"T_6156b_row11_col1\" class=\"data row11 col1\" >mode</td>\n",
       "    </tr>\n",
       "    <tr>\n",
       "      <th id=\"T_6156b_level0_row12\" class=\"row_heading level0 row12\" >12</th>\n",
       "      <td id=\"T_6156b_row12_col0\" class=\"data row12 col0\" >Fold Generator</td>\n",
       "      <td id=\"T_6156b_row12_col1\" class=\"data row12 col1\" >StratifiedKFold</td>\n",
       "    </tr>\n",
       "    <tr>\n",
       "      <th id=\"T_6156b_level0_row13\" class=\"row_heading level0 row13\" >13</th>\n",
       "      <td id=\"T_6156b_row13_col0\" class=\"data row13 col0\" >Fold Number</td>\n",
       "      <td id=\"T_6156b_row13_col1\" class=\"data row13 col1\" >10</td>\n",
       "    </tr>\n",
       "    <tr>\n",
       "      <th id=\"T_6156b_level0_row14\" class=\"row_heading level0 row14\" >14</th>\n",
       "      <td id=\"T_6156b_row14_col0\" class=\"data row14 col0\" >CPU Jobs</td>\n",
       "      <td id=\"T_6156b_row14_col1\" class=\"data row14 col1\" >-1</td>\n",
       "    </tr>\n",
       "    <tr>\n",
       "      <th id=\"T_6156b_level0_row15\" class=\"row_heading level0 row15\" >15</th>\n",
       "      <td id=\"T_6156b_row15_col0\" class=\"data row15 col0\" >Use GPU</td>\n",
       "      <td id=\"T_6156b_row15_col1\" class=\"data row15 col1\" >False</td>\n",
       "    </tr>\n",
       "    <tr>\n",
       "      <th id=\"T_6156b_level0_row16\" class=\"row_heading level0 row16\" >16</th>\n",
       "      <td id=\"T_6156b_row16_col0\" class=\"data row16 col0\" >Log Experiment</td>\n",
       "      <td id=\"T_6156b_row16_col1\" class=\"data row16 col1\" >False</td>\n",
       "    </tr>\n",
       "    <tr>\n",
       "      <th id=\"T_6156b_level0_row17\" class=\"row_heading level0 row17\" >17</th>\n",
       "      <td id=\"T_6156b_row17_col0\" class=\"data row17 col0\" >Experiment Name</td>\n",
       "      <td id=\"T_6156b_row17_col1\" class=\"data row17 col1\" >clf-default-name</td>\n",
       "    </tr>\n",
       "    <tr>\n",
       "      <th id=\"T_6156b_level0_row18\" class=\"row_heading level0 row18\" >18</th>\n",
       "      <td id=\"T_6156b_row18_col0\" class=\"data row18 col0\" >USI</td>\n",
       "      <td id=\"T_6156b_row18_col1\" class=\"data row18 col1\" >4805</td>\n",
       "    </tr>\n",
       "  </tbody>\n",
       "</table>\n"
      ],
      "text/plain": [
       "<pandas.io.formats.style.Styler at 0x2cf3f94acd0>"
      ]
     },
     "metadata": {},
     "output_type": "display_data"
    },
    {
     "data": {
      "text/html": [],
      "text/plain": [
       "<IPython.core.display.HTML object>"
      ]
     },
     "metadata": {},
     "output_type": "display_data"
    },
    {
     "data": {
      "text/html": [
       "<style type=\"text/css\">\n",
       "#T_adc37_row10_col0, #T_adc37_row10_col1, #T_adc37_row10_col2, #T_adc37_row10_col3, #T_adc37_row10_col4, #T_adc37_row10_col5, #T_adc37_row10_col6 {\n",
       "  background: yellow;\n",
       "}\n",
       "</style>\n",
       "<table id=\"T_adc37\">\n",
       "  <thead>\n",
       "    <tr>\n",
       "      <th class=\"blank level0\" >&nbsp;</th>\n",
       "      <th id=\"T_adc37_level0_col0\" class=\"col_heading level0 col0\" >Accuracy</th>\n",
       "      <th id=\"T_adc37_level0_col1\" class=\"col_heading level0 col1\" >AUC</th>\n",
       "      <th id=\"T_adc37_level0_col2\" class=\"col_heading level0 col2\" >Recall</th>\n",
       "      <th id=\"T_adc37_level0_col3\" class=\"col_heading level0 col3\" >Prec.</th>\n",
       "      <th id=\"T_adc37_level0_col4\" class=\"col_heading level0 col4\" >F1</th>\n",
       "      <th id=\"T_adc37_level0_col5\" class=\"col_heading level0 col5\" >Kappa</th>\n",
       "      <th id=\"T_adc37_level0_col6\" class=\"col_heading level0 col6\" >MCC</th>\n",
       "    </tr>\n",
       "    <tr>\n",
       "      <th class=\"index_name level0\" >Fold</th>\n",
       "      <th class=\"blank col0\" >&nbsp;</th>\n",
       "      <th class=\"blank col1\" >&nbsp;</th>\n",
       "      <th class=\"blank col2\" >&nbsp;</th>\n",
       "      <th class=\"blank col3\" >&nbsp;</th>\n",
       "      <th class=\"blank col4\" >&nbsp;</th>\n",
       "      <th class=\"blank col5\" >&nbsp;</th>\n",
       "      <th class=\"blank col6\" >&nbsp;</th>\n",
       "    </tr>\n",
       "  </thead>\n",
       "  <tbody>\n",
       "    <tr>\n",
       "      <th id=\"T_adc37_level0_row0\" class=\"row_heading level0 row0\" >0</th>\n",
       "      <td id=\"T_adc37_row0_col0\" class=\"data row0 col0\" >0.5128</td>\n",
       "      <td id=\"T_adc37_row0_col1\" class=\"data row0 col1\" >0.3586</td>\n",
       "      <td id=\"T_adc37_row0_col2\" class=\"data row0 col2\" >0.0000</td>\n",
       "      <td id=\"T_adc37_row0_col3\" class=\"data row0 col3\" >0.0000</td>\n",
       "      <td id=\"T_adc37_row0_col4\" class=\"data row0 col4\" >0.0000</td>\n",
       "      <td id=\"T_adc37_row0_col5\" class=\"data row0 col5\" >-0.3209</td>\n",
       "      <td id=\"T_adc37_row0_col6\" class=\"data row0 col6\" >-0.3216</td>\n",
       "    </tr>\n",
       "    <tr>\n",
       "      <th id=\"T_adc37_level0_row1\" class=\"row_heading level0 row1\" >1</th>\n",
       "      <td id=\"T_adc37_row1_col0\" class=\"data row1 col0\" >0.6923</td>\n",
       "      <td id=\"T_adc37_row1_col1\" class=\"data row1 col1\" >0.5069</td>\n",
       "      <td id=\"T_adc37_row1_col2\" class=\"data row1 col2\" >0.1000</td>\n",
       "      <td id=\"T_adc37_row1_col3\" class=\"data row1 col3\" >0.2500</td>\n",
       "      <td id=\"T_adc37_row1_col4\" class=\"data row1 col4\" >0.1429</td>\n",
       "      <td id=\"T_adc37_row1_col5\" class=\"data row1 col5\" >-0.0043</td>\n",
       "      <td id=\"T_adc37_row1_col6\" class=\"data row1 col6\" >-0.0050</td>\n",
       "    </tr>\n",
       "    <tr>\n",
       "      <th id=\"T_adc37_level0_row2\" class=\"row_heading level0 row2\" >2</th>\n",
       "      <td id=\"T_adc37_row2_col0\" class=\"data row2 col0\" >0.7179</td>\n",
       "      <td id=\"T_adc37_row2_col1\" class=\"data row2 col1\" >0.5345</td>\n",
       "      <td id=\"T_adc37_row2_col2\" class=\"data row2 col2\" >0.2000</td>\n",
       "      <td id=\"T_adc37_row2_col3\" class=\"data row2 col3\" >0.4000</td>\n",
       "      <td id=\"T_adc37_row2_col4\" class=\"data row2 col4\" >0.2667</td>\n",
       "      <td id=\"T_adc37_row2_col5\" class=\"data row2 col5\" >0.1155</td>\n",
       "      <td id=\"T_adc37_row2_col6\" class=\"data row2 col6\" >0.1261</td>\n",
       "    </tr>\n",
       "    <tr>\n",
       "      <th id=\"T_adc37_level0_row3\" class=\"row_heading level0 row3\" >3</th>\n",
       "      <td id=\"T_adc37_row3_col0\" class=\"data row3 col0\" >0.6154</td>\n",
       "      <td id=\"T_adc37_row3_col1\" class=\"data row3 col1\" >0.3552</td>\n",
       "      <td id=\"T_adc37_row3_col2\" class=\"data row3 col2\" >0.2000</td>\n",
       "      <td id=\"T_adc37_row3_col3\" class=\"data row3 col3\" >0.2222</td>\n",
       "      <td id=\"T_adc37_row3_col4\" class=\"data row3 col4\" >0.2105</td>\n",
       "      <td id=\"T_adc37_row3_col5\" class=\"data row3 col5\" >-0.0428</td>\n",
       "      <td id=\"T_adc37_row3_col6\" class=\"data row3 col6\" >-0.0429</td>\n",
       "    </tr>\n",
       "    <tr>\n",
       "      <th id=\"T_adc37_level0_row4\" class=\"row_heading level0 row4\" >4</th>\n",
       "      <td id=\"T_adc37_row4_col0\" class=\"data row4 col0\" >0.5128</td>\n",
       "      <td id=\"T_adc37_row4_col1\" class=\"data row4 col1\" >0.2966</td>\n",
       "      <td id=\"T_adc37_row4_col2\" class=\"data row4 col2\" >0.0000</td>\n",
       "      <td id=\"T_adc37_row4_col3\" class=\"data row4 col3\" >0.0000</td>\n",
       "      <td id=\"T_adc37_row4_col4\" class=\"data row4 col4\" >0.0000</td>\n",
       "      <td id=\"T_adc37_row4_col5\" class=\"data row4 col5\" >-0.3209</td>\n",
       "      <td id=\"T_adc37_row4_col6\" class=\"data row4 col6\" >-0.3216</td>\n",
       "    </tr>\n",
       "    <tr>\n",
       "      <th id=\"T_adc37_level0_row5\" class=\"row_heading level0 row5\" >5</th>\n",
       "      <td id=\"T_adc37_row5_col0\" class=\"data row5 col0\" >0.6410</td>\n",
       "      <td id=\"T_adc37_row5_col1\" class=\"data row5 col1\" >0.4513</td>\n",
       "      <td id=\"T_adc37_row5_col2\" class=\"data row5 col2\" >0.1818</td>\n",
       "      <td id=\"T_adc37_row5_col3\" class=\"data row5 col3\" >0.2857</td>\n",
       "      <td id=\"T_adc37_row5_col4\" class=\"data row5 col4\" >0.2222</td>\n",
       "      <td id=\"T_adc37_row5_col5\" class=\"data row5 col5\" >0.0036</td>\n",
       "      <td id=\"T_adc37_row5_col6\" class=\"data row5 col6\" >0.0038</td>\n",
       "    </tr>\n",
       "    <tr>\n",
       "      <th id=\"T_adc37_level0_row6\" class=\"row_heading level0 row6\" >6</th>\n",
       "      <td id=\"T_adc37_row6_col0\" class=\"data row6 col0\" >0.6667</td>\n",
       "      <td id=\"T_adc37_row6_col1\" class=\"data row6 col1\" >0.4968</td>\n",
       "      <td id=\"T_adc37_row6_col2\" class=\"data row6 col2\" >0.0909</td>\n",
       "      <td id=\"T_adc37_row6_col3\" class=\"data row6 col3\" >0.2500</td>\n",
       "      <td id=\"T_adc37_row6_col4\" class=\"data row6 col4\" >0.1333</td>\n",
       "      <td id=\"T_adc37_row6_col5\" class=\"data row6 col5\" >-0.0201</td>\n",
       "      <td id=\"T_adc37_row6_col6\" class=\"data row6 col6\" >-0.0241</td>\n",
       "    </tr>\n",
       "    <tr>\n",
       "      <th id=\"T_adc37_level0_row7\" class=\"row_heading level0 row7\" >7</th>\n",
       "      <td id=\"T_adc37_row7_col0\" class=\"data row7 col0\" >0.5641</td>\n",
       "      <td id=\"T_adc37_row7_col1\" class=\"data row7 col1\" >0.3214</td>\n",
       "      <td id=\"T_adc37_row7_col2\" class=\"data row7 col2\" >0.1818</td>\n",
       "      <td id=\"T_adc37_row7_col3\" class=\"data row7 col3\" >0.2000</td>\n",
       "      <td id=\"T_adc37_row7_col4\" class=\"data row7 col4\" >0.1905</td>\n",
       "      <td id=\"T_adc37_row7_col5\" class=\"data row7 col5\" >-0.1068</td>\n",
       "      <td id=\"T_adc37_row7_col6\" class=\"data row7 col6\" >-0.1071</td>\n",
       "    </tr>\n",
       "    <tr>\n",
       "      <th id=\"T_adc37_level0_row8\" class=\"row_heading level0 row8\" >8</th>\n",
       "      <td id=\"T_adc37_row8_col0\" class=\"data row8 col0\" >0.5897</td>\n",
       "      <td id=\"T_adc37_row8_col1\" class=\"data row8 col1\" >0.3961</td>\n",
       "      <td id=\"T_adc37_row8_col2\" class=\"data row8 col2\" >0.0000</td>\n",
       "      <td id=\"T_adc37_row8_col3\" class=\"data row8 col3\" >0.0000</td>\n",
       "      <td id=\"T_adc37_row8_col4\" class=\"data row8 col4\" >0.0000</td>\n",
       "      <td id=\"T_adc37_row8_col5\" class=\"data row8 col5\" >-0.2140</td>\n",
       "      <td id=\"T_adc37_row8_col6\" class=\"data row8 col6\" >-0.2404</td>\n",
       "    </tr>\n",
       "    <tr>\n",
       "      <th id=\"T_adc37_level0_row9\" class=\"row_heading level0 row9\" >9</th>\n",
       "      <td id=\"T_adc37_row9_col0\" class=\"data row9 col0\" >0.5128</td>\n",
       "      <td id=\"T_adc37_row9_col1\" class=\"data row9 col1\" >0.4188</td>\n",
       "      <td id=\"T_adc37_row9_col2\" class=\"data row9 col2\" >0.0909</td>\n",
       "      <td id=\"T_adc37_row9_col3\" class=\"data row9 col3\" >0.1000</td>\n",
       "      <td id=\"T_adc37_row9_col4\" class=\"data row9 col4\" >0.0952</td>\n",
       "      <td id=\"T_adc37_row9_col5\" class=\"data row9 col5\" >-0.2371</td>\n",
       "      <td id=\"T_adc37_row9_col6\" class=\"data row9 col6\" >-0.2376</td>\n",
       "    </tr>\n",
       "    <tr>\n",
       "      <th id=\"T_adc37_level0_row10\" class=\"row_heading level0 row10\" >Mean</th>\n",
       "      <td id=\"T_adc37_row10_col0\" class=\"data row10 col0\" >0.6026</td>\n",
       "      <td id=\"T_adc37_row10_col1\" class=\"data row10 col1\" >0.4136</td>\n",
       "      <td id=\"T_adc37_row10_col2\" class=\"data row10 col2\" >0.1045</td>\n",
       "      <td id=\"T_adc37_row10_col3\" class=\"data row10 col3\" >0.1708</td>\n",
       "      <td id=\"T_adc37_row10_col4\" class=\"data row10 col4\" >0.1261</td>\n",
       "      <td id=\"T_adc37_row10_col5\" class=\"data row10 col5\" >-0.1148</td>\n",
       "      <td id=\"T_adc37_row10_col6\" class=\"data row10 col6\" >-0.1170</td>\n",
       "    </tr>\n",
       "    <tr>\n",
       "      <th id=\"T_adc37_level0_row11\" class=\"row_heading level0 row11\" >Std</th>\n",
       "      <td id=\"T_adc37_row11_col0\" class=\"data row11 col0\" >0.0728</td>\n",
       "      <td id=\"T_adc37_row11_col1\" class=\"data row11 col1\" >0.0779</td>\n",
       "      <td id=\"T_adc37_row11_col2\" class=\"data row11 col2\" >0.0796</td>\n",
       "      <td id=\"T_adc37_row11_col3\" class=\"data row11 col3\" >0.1320</td>\n",
       "      <td id=\"T_adc37_row11_col4\" class=\"data row11 col4\" >0.0945</td>\n",
       "      <td id=\"T_adc37_row11_col5\" class=\"data row11 col5\" >0.1425</td>\n",
       "      <td id=\"T_adc37_row11_col6\" class=\"data row11 col6\" >0.1463</td>\n",
       "    </tr>\n",
       "  </tbody>\n",
       "</table>\n"
      ],
      "text/plain": [
       "<pandas.io.formats.style.Styler at 0x2cf37ba8050>"
      ]
     },
     "metadata": {},
     "output_type": "display_data"
    },
    {
     "data": {
      "text/html": [],
      "text/plain": [
       "<IPython.core.display.HTML object>"
      ]
     },
     "metadata": {},
     "output_type": "display_data"
    },
    {
     "data": {
      "text/html": [
       "<style type=\"text/css\">\n",
       "</style>\n",
       "<table id=\"T_6d4a1\">\n",
       "  <thead>\n",
       "    <tr>\n",
       "      <th class=\"blank level0\" >&nbsp;</th>\n",
       "      <th id=\"T_6d4a1_level0_col0\" class=\"col_heading level0 col0\" >Model</th>\n",
       "      <th id=\"T_6d4a1_level0_col1\" class=\"col_heading level0 col1\" >Accuracy</th>\n",
       "      <th id=\"T_6d4a1_level0_col2\" class=\"col_heading level0 col2\" >AUC</th>\n",
       "      <th id=\"T_6d4a1_level0_col3\" class=\"col_heading level0 col3\" >Recall</th>\n",
       "      <th id=\"T_6d4a1_level0_col4\" class=\"col_heading level0 col4\" >Prec.</th>\n",
       "      <th id=\"T_6d4a1_level0_col5\" class=\"col_heading level0 col5\" >F1</th>\n",
       "      <th id=\"T_6d4a1_level0_col6\" class=\"col_heading level0 col6\" >Kappa</th>\n",
       "      <th id=\"T_6d4a1_level0_col7\" class=\"col_heading level0 col7\" >MCC</th>\n",
       "    </tr>\n",
       "  </thead>\n",
       "  <tbody>\n",
       "    <tr>\n",
       "      <th id=\"T_6d4a1_level0_row0\" class=\"row_heading level0 row0\" >0</th>\n",
       "      <td id=\"T_6d4a1_row0_col0\" class=\"data row0 col0\" >Extreme Gradient Boosting</td>\n",
       "      <td id=\"T_6d4a1_row0_col1\" class=\"data row0 col1\" >0.9344</td>\n",
       "      <td id=\"T_6d4a1_row0_col2\" class=\"data row0 col2\" >0.9353</td>\n",
       "      <td id=\"T_6d4a1_row0_col3\" class=\"data row0 col3\" >0.8550</td>\n",
       "      <td id=\"T_6d4a1_row0_col4\" class=\"data row0 col4\" >0.8960</td>\n",
       "      <td id=\"T_6d4a1_row0_col5\" class=\"data row0 col5\" >0.8750</td>\n",
       "      <td id=\"T_6d4a1_row0_col6\" class=\"data row0 col6\" >0.8306</td>\n",
       "      <td id=\"T_6d4a1_row0_col7\" class=\"data row0 col7\" >0.8310</td>\n",
       "    </tr>\n",
       "  </tbody>\n",
       "</table>\n"
      ],
      "text/plain": [
       "<pandas.io.formats.style.Styler at 0x2cf3d829690>"
      ]
     },
     "metadata": {},
     "output_type": "display_data"
    }
   ],
   "source": [
    "clf_setup = clf.setup(\n",
    "    data = features_df.drop('sales_90_value', axis = 1),\n",
    "    target='sales_90_flag',\n",
    "    train_size=0.8,\n",
    "    session_id=123,\n",
    "    verbose=True,\n",
    "    log_experiment=False\n",
    ")\n",
    "\n",
    "xgb_clf_model = clf.create_model('xgboost')\n",
    "clf_predictions_df = (clf\n",
    "                      .predict_model(xgb_clf_model, \n",
    "                                     data=features_df,\n",
    "                                     raw_score=True)\n",
    "                      .sort_values('prediction_score_1', ascending=False))"
   ]
  },
  {
   "cell_type": "markdown",
   "metadata": {},
   "source": [
    "# Business Question:\n",
    "What would happen if you could increase revenue by 10%?"
   ]
  },
  {
   "cell_type": "code",
   "execution_count": 64,
   "metadata": {},
   "outputs": [
    {
     "name": "stdout",
     "output_type": "stream",
     "text": [
      "Expected Sales: $5,833,864.00\n",
      "10% increase in sales: $583,386.40\n"
     ]
    }
   ],
   "source": [
    "x = reg_predictions_df['prediction_label'].sum()\n",
    "\n",
    "print('Expected Sales: ${:,.2f}'.format(x))\n",
    "print('10% increase in sales: ${:,.2f}'.format(x*.1))"
   ]
  },
  {
   "cell_type": "code",
   "execution_count": null,
   "metadata": {},
   "outputs": [],
   "source": []
  }
 ],
 "metadata": {
  "kernelspec": {
   "display_name": "Python 3",
   "language": "python",
   "name": "python3"
  },
  "language_info": {
   "codemirror_mode": {
    "name": "ipython",
    "version": 3
   },
   "file_extension": ".py",
   "mimetype": "text/x-python",
   "name": "python",
   "nbconvert_exporter": "python",
   "pygments_lexer": "ipython3",
   "version": "3.11.8"
  }
 },
 "nbformat": 4,
 "nbformat_minor": 2
}
